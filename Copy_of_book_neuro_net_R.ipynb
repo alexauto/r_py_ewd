{
  "nbformat": 4,
  "nbformat_minor": 0,
  "metadata": {
    "colab": {
      "provenance": [],
      "authorship_tag": "ABX9TyM02wzQe9yH1vwLsihXA8Ip",
      "include_colab_link": true
    },
    "kernelspec": {
      "name": "ir",
      "display_name": "R"
    },
    "language_info": {
      "name": "R"
    }
  },
  "cells": [
    {
      "cell_type": "markdown",
      "metadata": {
        "id": "view-in-github",
        "colab_type": "text"
      },
      "source": [
        "<a href=\"https://colab.research.google.com/github/alexauto/r_py_ewd/blob/main/Copy_of_book_neuro_net_R.ipynb\" target=\"_parent\"><img src=\"https://colab.research.google.com/assets/colab-badge.svg\" alt=\"Open In Colab\"/></a>"
      ]
    },
    {
      "cell_type": "code",
      "execution_count": null,
      "metadata": {
        "id": "LvMOQpZqKDAN"
      },
      "outputs": [],
      "source": []
    },
    {
      "cell_type": "code",
      "source": [
        "# indicate that you're running R code\n",
        "# %%R\n",
        "\n",
        "# Install if it's your first time to run\n",
        "# install.packages(\"class\")\n",
        "# install.packages(\"data.table\")\n",
        "# install.packages(\"gmodels\")\n",
        "# install.packages(\"stringr\")\n",
        "# install.packages(\"dplyr\")\n",
        "# install.packages(\"tidyverse\")\n",
        "\n",
        "library(class)\n",
        "# library(data.table)\n",
        "library(gmodels)\n",
        "library(stringr)\n",
        "library(dplyr)\n",
        "library(tidyverse)\n"
      ],
      "metadata": {
        "id": "-nRtcYOmKxek"
      },
      "execution_count": null,
      "outputs": []
    },
    {
      "cell_type": "code",
      "source": [
        "getwd()\n",
        "# /content/sample_data/wisc_bc_data.csv"
      ],
      "metadata": {
        "colab": {
          "base_uri": "https://localhost:8080/",
          "height": 34
        },
        "id": "ylJhbgMDQSZp",
        "outputId": "65e48650-1c24-4a63-e982-c649b8f5056f"
      },
      "execution_count": null,
      "outputs": [
        {
          "output_type": "display_data",
          "data": {
            "text/html": [
              "'/content'"
            ],
            "text/markdown": "'/content'",
            "text/latex": "'/content'",
            "text/plain": [
              "[1] \"/content\""
            ]
          },
          "metadata": {}
        }
      ]
    },
    {
      "cell_type": "code",
      "source": [
        "library(class)\n",
        "library(gmodels)\n",
        "\n",
        "wbcd <- read.csv(\"/content/sample_data/wisc_bc_data.csv\", stringsAsFactors = FALSE)\n",
        "\n",
        "str(wbcd)\n",
        "wbcd <- wbcd[-1]\n",
        "table(wbcd$diagnosis)\n",
        "wbcd$diagnosis<- factor(wbcd$diagnosis, levels = c(\"B\", \"M\"),\n",
        "                        labels = c(\"Benign\", \"Malignant\"))\n",
        "\n",
        "round(prop.table(table(wbcd$diagnosis)) * 100, digits = 1)\n",
        "summary(wbcd[c(\"radius_mean\", \"area_mean\", \"smoothness_mean\")])\n",
        "\n",
        "\n",
        "normalize <- function(x) {\n",
        "  return ((x - min(x)) / (max(x) - min(x)))\n",
        "}\n",
        "normalize(c(10, 20, 30, 40, 50))\n",
        "#\n",
        "wbcd_n <- as.data.frame(lapply(wbcd[2:31], normalize))\n",
        "#\n",
        "# Чтобы подтвердить, что преобразование было применено правильно,\n",
        "# давайте посмотрим на сводную статистику одной переменной:\n",
        "summary(wbcd_n$area_mean)\n",
        "\n",
        "# Как и ожидалось, переменная area_mean,\n",
        "# которая изначально находилась в диапазоне от 143,5 до 2501,0,\n",
        "# теперь находится в диапазоне от 0 до 1.\n",
        "\n",
        "wbcd_train <- wbcd_n[1:469, ]\n",
        "wbcd_test <- wbcd_n[470:569, ]\n",
        "#\n",
        "# Когда мы создавали наши нормализованные обучающие и тестовые наборы данных, мы исключили\n",
        "# целевую переменную, диагноз. Для обучения модели k-NN нам нужно будет сохранить\n",
        "# эти метки классов в векторах факторов, разделенных между обучающим и тестовым наборами данных:\n",
        "wbcd_train_labels <- wbcd[1:469, 1]\n",
        "wbcd_test_labels <- wbcd[470:569, 1]\n",
        "# Этот код берет фактор диагноза в первом столбце кадра данных wbcd и\n",
        "# создает векторы wbcd_train_labels и wbcd_test_labels. Мы будем использовать их\n",
        "# на следующих этапах обучения и оценки нашего классификатора.\n",
        "\n",
        "\n",
        "wbcd_test_pred <- knn(train = wbcd_train, test = wbcd_test,\n",
        "                      cl = wbcd_train_labels, k = 21)\n",
        "# Функция knn() возвращает вектор-фактор предсказанных меток для каждого из\n",
        "# примеров в тестовом наборе данных, который мы назначили wbcd_test_pred.\n",
        "\n",
        "CrossTable(x = wbcd_test_labels, y = wbcd_test_pred,\n",
        "           prop.chisq=FALSE)\n",
        "#\n",
        "# Проценты клеток в таблице указывают долю значений, которые попадают в четыре\n",
        "# категории. Верхняя левая ячейка указывает на истинно отрицательные результаты. Эти 61 из 100 значений\n",
        "# являются случаями, когда масса была доброкачественной, и алгоритм k-NN правильно идентифицировал ее\n",
        "# как таковую. Нижняя правая ячейка указывает на истинно положительные результаты, когда классификатор\n",
        "# и клинически определенная метка соглашаются, что масса является злокачественной. Всего 37 из\n",
        "# 100 прогнозов были истинно положительными.\n",
        "# Ячейки, попадающие на другую диагональ, содержат количество примеров, когда подход k-NN\n",
        "# не согласуется с истинной меткой. Два примера в нижней левой ячейке\n",
        "# являются ложноотрицательными результатами; в этом случае предсказанное значение было доброкачественным, но опухоль\n",
        "# была на самом деле злокачественной. Ошибки в этом направлении могут быть чрезвычайно дорогостоящими, поскольку они\n",
        "# могут заставить пациента поверить, что у него нет рака, но на самом деле болезнь может\n",
        "# продолжать распространяться. Верхняя правая ячейка будет содержать ложноположительные результаты, если\n",
        "# они были. Эти значения возникают, когда модель классифицирует массу как злокачественную,\n",
        "# но на самом деле она была доброкачественной. Хотя такие ошибки менее опасны, чем ложноотрицательный результат, их также следует избегать, поскольку они могут привести к дополнительной финансовой\n",
        "# нагрузке на систему здравоохранения или дополнительному стрессу для пациента, поскольку могут потребоваться дополнительные\n",
        "# тесты или лечение.\n",
        "# Если бы мы хотели, мы могли бы полностью исключить ложноотрицательные результаты,\n",
        "# классифицируя каждую массу как злокачественную. Очевидно, что это нереалистичная\n",
        "# стратегия. Тем не менее, она иллюстрирует тот факт, что прогнозирование включает в себя\n",
        "# соблюдение баланса между ложноположительным и ложноотрицательным коэффициентами.\n",
        "# В главе 10 «Оценка эффективности модели» вы узнаете о более\n",
        "# сложных методах измерения точности прогнозирования, которые\n",
        "# могут использоваться для определения мест, где можно оптимизировать частоту ошибок\n",
        "# в зависимости от стоимости каждого типа ошибки.\n",
        "# Всего 2 из 100, или 2 процента масс, были неправильно классифицированы с помощью подхода k-NN. Хотя точность в 98 процентов кажется впечатляющей для нескольких строк кода R,\n",
        "# мы можем попробовать еще одну итерацию модели, чтобы посмотреть, сможем ли мы улучшить\n",
        "# производительность и сократить количество значений, которые были неправильно классифицированы,\n",
        "# особенно потому, что ошибки были опасными ложноотрицательными.\n",
        "#\n",
        "wbcd_z <- as.data.frame(scale(wbcd[-1]))\n",
        "summary(wbcd_z$area_mean)\n",
        "# Среднее значение стандартизированной переменной z-оценки всегда должно быть равно нулю, а диапазон\n",
        "# должен быть достаточно компактным. Z-оценка больше 3 или меньше -3 указывает на\n",
        "# крайне редкое значение. Учитывая это, преобразование, похоже, сработало.\n",
        "# Как мы делали ранее, нам нужно разделить данные на обучающие и тестовые наборы, а\n",
        "# затем классифицировать тестовые экземпляры с помощью функции knn(). Затем мы сравним\n",
        "# предсказанные метки с фактическими метками с помощью CrossTable():\n",
        "#\n",
        "wbcd_train <- wbcd_z[1:469, ]\n",
        "wbcd_test <- wbcd_z[470:569, ]\n",
        "wbcd_train_labels <- wbcd[1:469, 1]\n",
        "wbcd_test_labels <- wbcd[470:569, 1]\n",
        "#\n",
        "wbcd_test_pred <- knn(train = wbcd_train, test = wbcd_test,\n",
        "                      cl = wbcd_train_labels, k = 21)\n",
        "\n",
        "CrossTable(x = wbcd_test_labels, y = wbcd_test_pred,\n",
        "           prop.chisq = FALSE)\n",
        "#\n",
        "# К сожалению, в следующей таблице результаты нашего нового преобразования показывают\n",
        "# небольшое снижение точности. В случаях, когда мы правильно классифицировали 98 процентов примеров ранее, на этот раз мы классифицировали только 95 процентов правильно. Что еще хуже, мы не стали лучше классифицировать опасные ложноотрицательные результаты:\n",
        "#\n",
        "# Хотя классификатор никогда не был идеальным, подход 1-NN смог избежать\n",
        "# некоторых ложных отрицательных результатов за счет добавления ложных положительных результатов. Однако важно\n",
        "# иметь в виду, что было бы неразумно слишком тесно подгонять наш подход к\n",
        "# нашим тестовым данным; в конце концов, другой набор из 100 записей пациентов, скорее всего, будет несколько\n",
        "# отличаться от тех, которые использовались для измерения нашей эффективности.\n",
        "# Если вам нужно быть уверенным, что обучающийся будет обобщать будущие\n",
        "# данные, вы можете создать несколько наборов из 100 пациентов случайным образом и\n",
        "# неоднократно повторно тестировать результат. Методы тщательной оценки\n",
        "# производительности моделей машинного обучения будут обсуждаться\n",
        "# далее в Главе 10, Оценка эффективности модели."
      ],
      "metadata": {
        "colab": {
          "base_uri": "https://localhost:8080/",
          "height": 1000
        },
        "id": "n6VIgQ9BKxin",
        "outputId": "93d44f69-67db-477a-c759-ef5788961033"
      },
      "execution_count": null,
      "outputs": [
        {
          "output_type": "stream",
          "name": "stdout",
          "text": [
            "'data.frame':\t569 obs. of  32 variables:\n",
            " $ id                     : int  842302 842517 84300903 84348301 84358402 843786 844359 84458202 844981 84501001 ...\n",
            " $ diagnosis              : chr  \"M\" \"M\" \"M\" \"M\" ...\n",
            " $ radius_mean            : num  18 20.6 19.7 11.4 20.3 ...\n",
            " $ texture_mean           : num  10.4 17.8 21.2 20.4 14.3 ...\n",
            " $ perimeter_mean         : num  122.8 132.9 130 77.6 135.1 ...\n",
            " $ area_mean              : num  1001 1326 1203 386 1297 ...\n",
            " $ smoothness_mean        : num  0.1184 0.0847 0.1096 0.1425 0.1003 ...\n",
            " $ compactness_mean       : num  0.2776 0.0786 0.1599 0.2839 0.1328 ...\n",
            " $ concavity_mean         : num  0.3001 0.0869 0.1974 0.2414 0.198 ...\n",
            " $ concave.points_mean    : num  0.1471 0.0702 0.1279 0.1052 0.1043 ...\n",
            " $ symmetry_mean          : num  0.242 0.181 0.207 0.26 0.181 ...\n",
            " $ fractal_dimension_mean : num  0.0787 0.0567 0.06 0.0974 0.0588 ...\n",
            " $ radius_se              : num  1.095 0.543 0.746 0.496 0.757 ...\n",
            " $ texture_se             : num  0.905 0.734 0.787 1.156 0.781 ...\n",
            " $ perimeter_se           : num  8.59 3.4 4.58 3.44 5.44 ...\n",
            " $ area_se                : num  153.4 74.1 94 27.2 94.4 ...\n",
            " $ smoothness_se          : num  0.0064 0.00522 0.00615 0.00911 0.01149 ...\n",
            " $ compactness_se         : num  0.049 0.0131 0.0401 0.0746 0.0246 ...\n",
            " $ concavity_se           : num  0.0537 0.0186 0.0383 0.0566 0.0569 ...\n",
            " $ concave.points_se      : num  0.0159 0.0134 0.0206 0.0187 0.0188 ...\n",
            " $ symmetry_se            : num  0.03 0.0139 0.0225 0.0596 0.0176 ...\n",
            " $ fractal_dimension_se   : num  0.00619 0.00353 0.00457 0.00921 0.00511 ...\n",
            " $ radius_worst           : num  25.4 25 23.6 14.9 22.5 ...\n",
            " $ texture_worst          : num  17.3 23.4 25.5 26.5 16.7 ...\n",
            " $ perimeter_worst        : num  184.6 158.8 152.5 98.9 152.2 ...\n",
            " $ area_worst             : num  2019 1956 1709 568 1575 ...\n",
            " $ smoothness_worst       : num  0.162 0.124 0.144 0.21 0.137 ...\n",
            " $ compactness_worst      : num  0.666 0.187 0.424 0.866 0.205 ...\n",
            " $ concavity_worst        : num  0.712 0.242 0.45 0.687 0.4 ...\n",
            " $ concave.points_worst   : num  0.265 0.186 0.243 0.258 0.163 ...\n",
            " $ symmetry_worst         : num  0.46 0.275 0.361 0.664 0.236 ...\n",
            " $ fractal_dimension_worst: num  0.1189 0.089 0.0876 0.173 0.0768 ...\n"
          ]
        },
        {
          "output_type": "display_data",
          "data": {
            "text/plain": [
              "\n",
              "  B   M \n",
              "357 212 "
            ]
          },
          "metadata": {}
        },
        {
          "output_type": "display_data",
          "data": {
            "text/plain": [
              "\n",
              "   Benign Malignant \n",
              "     62.7      37.3 "
            ]
          },
          "metadata": {}
        },
        {
          "output_type": "display_data",
          "data": {
            "text/plain": [
              "  radius_mean       area_mean      smoothness_mean  \n",
              " Min.   : 6.981   Min.   : 143.5   Min.   :0.05263  \n",
              " 1st Qu.:11.700   1st Qu.: 420.3   1st Qu.:0.08637  \n",
              " Median :13.370   Median : 551.1   Median :0.09587  \n",
              " Mean   :14.127   Mean   : 654.9   Mean   :0.09636  \n",
              " 3rd Qu.:15.780   3rd Qu.: 782.7   3rd Qu.:0.10530  \n",
              " Max.   :28.110   Max.   :2501.0   Max.   :0.16340  "
            ]
          },
          "metadata": {}
        },
        {
          "output_type": "display_data",
          "data": {
            "text/html": [
              "<style>\n",
              ".list-inline {list-style: none; margin:0; padding: 0}\n",
              ".list-inline>li {display: inline-block}\n",
              ".list-inline>li:not(:last-child)::after {content: \"\\00b7\"; padding: 0 .5ex}\n",
              "</style>\n",
              "<ol class=list-inline><li>0</li><li>0.25</li><li>0.5</li><li>0.75</li><li>1</li></ol>\n"
            ],
            "text/markdown": "1. 0\n2. 0.25\n3. 0.5\n4. 0.75\n5. 1\n\n\n",
            "text/latex": "\\begin{enumerate*}\n\\item 0\n\\item 0.25\n\\item 0.5\n\\item 0.75\n\\item 1\n\\end{enumerate*}\n",
            "text/plain": [
              "[1] 0.00 0.25 0.50 0.75 1.00"
            ]
          },
          "metadata": {}
        },
        {
          "output_type": "display_data",
          "data": {
            "text/plain": [
              "   Min. 1st Qu.  Median    Mean 3rd Qu.    Max. \n",
              " 0.0000  0.1174  0.1729  0.2169  0.2711  1.0000 "
            ]
          },
          "metadata": {}
        },
        {
          "output_type": "stream",
          "name": "stdout",
          "text": [
            "\n",
            " \n",
            "   Cell Contents\n",
            "|-------------------------|\n",
            "|                       N |\n",
            "|           N / Row Total |\n",
            "|           N / Col Total |\n",
            "|         N / Table Total |\n",
            "|-------------------------|\n",
            "\n",
            " \n",
            "Total Observations in Table:  100 \n",
            "\n",
            " \n",
            "                 | wbcd_test_pred \n",
            "wbcd_test_labels |    Benign | Malignant | Row Total | \n",
            "-----------------|-----------|-----------|-----------|\n",
            "          Benign |        77 |         0 |        77 | \n",
            "                 |     1.000 |     0.000 |     0.770 | \n",
            "                 |     0.975 |     0.000 |           | \n",
            "                 |     0.770 |     0.000 |           | \n",
            "-----------------|-----------|-----------|-----------|\n",
            "       Malignant |         2 |        21 |        23 | \n",
            "                 |     0.087 |     0.913 |     0.230 | \n",
            "                 |     0.025 |     1.000 |           | \n",
            "                 |     0.020 |     0.210 |           | \n",
            "-----------------|-----------|-----------|-----------|\n",
            "    Column Total |        79 |        21 |       100 | \n",
            "                 |     0.790 |     0.210 |           | \n",
            "-----------------|-----------|-----------|-----------|\n",
            "\n",
            " \n"
          ]
        },
        {
          "output_type": "display_data",
          "data": {
            "text/plain": [
              "   Min. 1st Qu.  Median    Mean 3rd Qu.    Max. \n",
              "-1.4532 -0.6666 -0.2949  0.0000  0.3632  5.2459 "
            ]
          },
          "metadata": {}
        },
        {
          "output_type": "stream",
          "name": "stdout",
          "text": [
            "\n",
            " \n",
            "   Cell Contents\n",
            "|-------------------------|\n",
            "|                       N |\n",
            "|           N / Row Total |\n",
            "|           N / Col Total |\n",
            "|         N / Table Total |\n",
            "|-------------------------|\n",
            "\n",
            " \n",
            "Total Observations in Table:  100 \n",
            "\n",
            " \n",
            "                 | wbcd_test_pred \n",
            "wbcd_test_labels |    Benign | Malignant | Row Total | \n",
            "-----------------|-----------|-----------|-----------|\n",
            "          Benign |        77 |         0 |        77 | \n",
            "                 |     1.000 |     0.000 |     0.770 | \n",
            "                 |     0.975 |     0.000 |           | \n",
            "                 |     0.770 |     0.000 |           | \n",
            "-----------------|-----------|-----------|-----------|\n",
            "       Malignant |         2 |        21 |        23 | \n",
            "                 |     0.087 |     0.913 |     0.230 | \n",
            "                 |     0.025 |     1.000 |           | \n",
            "                 |     0.020 |     0.210 |           | \n",
            "-----------------|-----------|-----------|-----------|\n",
            "    Column Total |        79 |        21 |       100 | \n",
            "                 |     0.790 |     0.210 |           | \n",
            "-----------------|-----------|-----------|-----------|\n",
            "\n",
            " \n"
          ]
        }
      ]
    },
    {
      "cell_type": "code",
      "source": [],
      "metadata": {
        "id": "tEa1bT21KxmG"
      },
      "execution_count": null,
      "outputs": []
    },
    {
      "cell_type": "code",
      "source": [],
      "metadata": {
        "id": "Vn8FHmsyKxpx"
      },
      "execution_count": null,
      "outputs": []
    },
    {
      "cell_type": "code",
      "source": [],
      "metadata": {
        "id": "Cui9IbXtKxtZ"
      },
      "execution_count": null,
      "outputs": []
    },
    {
      "cell_type": "code",
      "source": [],
      "metadata": {
        "id": "HCPuoknPKxwy"
      },
      "execution_count": null,
      "outputs": []
    }
  ]
}