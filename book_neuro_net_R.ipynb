{
  "nbformat": 4,
  "nbformat_minor": 0,
  "metadata": {
    "colab": {
      "provenance": [],
      "authorship_tag": "ABX9TyP2K6eDTRCQT5cnB7ASzc40",
      "include_colab_link": true
    },
    "kernelspec": {
      "name": "ir",
      "display_name": "R"
    },
    "language_info": {
      "name": "R"
    }
  },
  "cells": [
    {
      "cell_type": "markdown",
      "metadata": {
        "id": "view-in-github",
        "colab_type": "text"
      },
      "source": [
        "<a href=\"https://colab.research.google.com/github/alexauto/r_py_ewd/blob/main/book_neuro_net_R.ipynb\" target=\"_parent\"><img src=\"https://colab.research.google.com/assets/colab-badge.svg\" alt=\"Open In Colab\"/></a>"
      ]
    },
    {
      "cell_type": "code",
      "execution_count": null,
      "metadata": {
        "id": "LvMOQpZqKDAN"
      },
      "outputs": [],
      "source": []
    },
    {
      "cell_type": "code",
      "source": [
        "# indicate that you're running R code\n",
        "# %%R\n",
        "\n",
        "# Install if it's your first time to run\n",
        "# install.packages(\"class\")\n",
        "# install.packages(\"data.table\")\n",
        "# install.packages(\"gmodels\")\n",
        "# install.packages(\"stringr\")\n",
        "# install.packages(\"dplyr\")\n",
        "# install.packages(\"tidyverse\")\n",
        "\n",
        "library(class)\n",
        "# library(data.table)\n",
        "library(gmodels)\n",
        "library(stringr)\n",
        "library(dplyr)\n",
        "library(tidyverse)\n",
        "library(tm)\n"
      ],
      "metadata": {
        "id": "-nRtcYOmKxek"
      },
      "execution_count": 15,
      "outputs": []
    },
    {
      "cell_type": "code",
      "source": [
        "# # Load R\n",
        "# %reload_ext rpy2.ipython\n",
        "# %config IPCompleter.greedy=True\n",
        "# %config InlineBackend.figure_format = 'retina'\n",
        "# install.packages(\"tm\")"
      ],
      "metadata": {
        "colab": {
          "base_uri": "https://localhost:8080/"
        },
        "id": "dAFSeC_hVmDf",
        "outputId": "6c55d936-8f21-481a-9f7d-dcfb1e9398fc"
      },
      "execution_count": 11,
      "outputs": [
        {
          "output_type": "stream",
          "name": "stderr",
          "text": [
            "Installing package into ‘/usr/local/lib/R/site-library’\n",
            "(as ‘lib’ is unspecified)\n",
            "\n"
          ]
        }
      ]
    },
    {
      "cell_type": "code",
      "source": [
        "getwd()\n",
        "# /content/sample_data/wisc_bc_data.csv"
      ],
      "metadata": {
        "colab": {
          "base_uri": "https://localhost:8080/",
          "height": 34
        },
        "id": "ylJhbgMDQSZp",
        "outputId": "65e48650-1c24-4a63-e982-c649b8f5056f"
      },
      "execution_count": 12,
      "outputs": [
        {
          "output_type": "display_data",
          "data": {
            "text/html": [
              "'/content'"
            ],
            "text/markdown": "'/content'",
            "text/latex": "'/content'",
            "text/plain": [
              "[1] \"/content\""
            ]
          },
          "metadata": {}
        }
      ]
    },
    {
      "cell_type": "code",
      "source": [
        "library(class)\n",
        "library(gmodels)\n",
        "\n",
        "wbcd <- read.csv(\"/content/sample_data/wisc_bc_data.csv\", stringsAsFactors = FALSE)\n",
        "\n",
        "str(wbcd)\n",
        "wbcd <- wbcd[-1]\n",
        "table(wbcd$diagnosis)\n",
        "wbcd$diagnosis<- factor(wbcd$diagnosis, levels = c(\"B\", \"M\"),\n",
        "                        labels = c(\"Benign\", \"Malignant\"))\n",
        "\n",
        "round(prop.table(table(wbcd$diagnosis)) * 100, digits = 1)\n",
        "summary(wbcd[c(\"radius_mean\", \"area_mean\", \"smoothness_mean\")])\n",
        "\n",
        "\n",
        "normalize <- function(x) {\n",
        "  return ((x - min(x)) / (max(x) - min(x)))\n",
        "}\n",
        "normalize(c(10, 20, 30, 40, 50))\n",
        "#\n",
        "wbcd_n <- as.data.frame(lapply(wbcd[2:31], normalize))\n",
        "#\n",
        "# Чтобы подтвердить, что преобразование было применено правильно,\n",
        "# давайте посмотрим на сводную статистику одной переменной:\n",
        "summary(wbcd_n$area_mean)\n",
        "\n",
        "# Как и ожидалось, переменная area_mean,\n",
        "# которая изначально находилась в диапазоне от 143,5 до 2501,0,\n",
        "# теперь находится в диапазоне от 0 до 1.\n",
        "\n",
        "wbcd_train <- wbcd_n[1:469, ]\n",
        "wbcd_test <- wbcd_n[470:569, ]\n",
        "#\n",
        "# Когда мы создавали наши нормализованные обучающие и тестовые наборы данных, мы исключили\n",
        "# целевую переменную, диагноз. Для обучения модели k-NN нам нужно будет сохранить\n",
        "# эти метки классов в векторах факторов, разделенных между обучающим и тестовым наборами данных:\n",
        "wbcd_train_labels <- wbcd[1:469, 1]\n",
        "wbcd_test_labels <- wbcd[470:569, 1]\n",
        "# Этот код берет фактор диагноза в первом столбце кадра данных wbcd и\n",
        "# создает векторы wbcd_train_labels и wbcd_test_labels. Мы будем использовать их\n",
        "# на следующих этапах обучения и оценки нашего классификатора.\n",
        "\n",
        "\n",
        "wbcd_test_pred <- knn(train = wbcd_train, test = wbcd_test,\n",
        "                      cl = wbcd_train_labels, k = 21)\n",
        "# Функция knn() возвращает вектор-фактор предсказанных меток для каждого из\n",
        "# примеров в тестовом наборе данных, который мы назначили wbcd_test_pred.\n",
        "\n",
        "CrossTable(x = wbcd_test_labels, y = wbcd_test_pred,\n",
        "           prop.chisq=FALSE)\n",
        "#\n",
        "# Проценты клеток в таблице указывают долю значений, которые попадают в четыре\n",
        "# категории. Верхняя левая ячейка указывает на истинно отрицательные результаты. Эти 61 из 100 значений\n",
        "# являются случаями, когда масса была доброкачественной, и алгоритм k-NN правильно идентифицировал ее\n",
        "# как таковую. Нижняя правая ячейка указывает на истинно положительные результаты, когда классификатор\n",
        "# и клинически определенная метка соглашаются, что масса является злокачественной. Всего 37 из\n",
        "# 100 прогнозов были истинно положительными.\n",
        "# Ячейки, попадающие на другую диагональ, содержат количество примеров, когда подход k-NN\n",
        "# не согласуется с истинной меткой. Два примера в нижней левой ячейке\n",
        "# являются ложноотрицательными результатами; в этом случае предсказанное значение было доброкачественным, но опухоль\n",
        "# была на самом деле злокачественной. Ошибки в этом направлении могут быть чрезвычайно дорогостоящими, поскольку они\n",
        "# могут заставить пациента поверить, что у него нет рака, но на самом деле болезнь может\n",
        "# продолжать распространяться. Верхняя правая ячейка будет содержать ложноположительные результаты, если\n",
        "# они были. Эти значения возникают, когда модель классифицирует массу как злокачественную,\n",
        "# но на самом деле она была доброкачественной. Хотя такие ошибки менее опасны, чем ложноотрицательный результат, их также следует избегать, поскольку они могут привести к дополнительной финансовой\n",
        "# нагрузке на систему здравоохранения или дополнительному стрессу для пациента, поскольку могут потребоваться дополнительные\n",
        "# тесты или лечение.\n",
        "# Если бы мы хотели, мы могли бы полностью исключить ложноотрицательные результаты,\n",
        "# классифицируя каждую массу как злокачественную. Очевидно, что это нереалистичная\n",
        "# стратегия. Тем не менее, она иллюстрирует тот факт, что прогнозирование включает в себя\n",
        "# соблюдение баланса между ложноположительным и ложноотрицательным коэффициентами.\n",
        "# В главе 10 «Оценка эффективности модели» вы узнаете о более\n",
        "# сложных методах измерения точности прогнозирования, которые\n",
        "# могут использоваться для определения мест, где можно оптимизировать частоту ошибок\n",
        "# в зависимости от стоимости каждого типа ошибки.\n",
        "# Всего 2 из 100, или 2 процента масс, были неправильно классифицированы с помощью подхода k-NN. Хотя точность в 98 процентов кажется впечатляющей для нескольких строк кода R,\n",
        "# мы можем попробовать еще одну итерацию модели, чтобы посмотреть, сможем ли мы улучшить\n",
        "# производительность и сократить количество значений, которые были неправильно классифицированы,\n",
        "# особенно потому, что ошибки были опасными ложноотрицательными.\n",
        "#\n",
        "wbcd_z <- as.data.frame(scale(wbcd[-1]))\n",
        "summary(wbcd_z$area_mean)\n",
        "# Среднее значение стандартизированной переменной z-оценки всегда должно быть равно нулю, а диапазон\n",
        "# должен быть достаточно компактным. Z-оценка больше 3 или меньше -3 указывает на\n",
        "# крайне редкое значение. Учитывая это, преобразование, похоже, сработало.\n",
        "# Как мы делали ранее, нам нужно разделить данные на обучающие и тестовые наборы, а\n",
        "# затем классифицировать тестовые экземпляры с помощью функции knn(). Затем мы сравним\n",
        "# предсказанные метки с фактическими метками с помощью CrossTable():\n",
        "#\n",
        "wbcd_train <- wbcd_z[1:469, ]\n",
        "wbcd_test <- wbcd_z[470:569, ]\n",
        "wbcd_train_labels <- wbcd[1:469, 1]\n",
        "wbcd_test_labels <- wbcd[470:569, 1]\n",
        "#\n",
        "wbcd_test_pred <- knn(train = wbcd_train, test = wbcd_test,\n",
        "                      cl = wbcd_train_labels, k = 21)\n",
        "\n",
        "CrossTable(x = wbcd_test_labels, y = wbcd_test_pred,\n",
        "           prop.chisq = FALSE)\n",
        "#\n",
        "# К сожалению, в следующей таблице результаты нашего нового преобразования показывают\n",
        "# небольшое снижение точности. В случаях, когда мы правильно классифицировали 98 процентов примеров ранее, на этот раз мы классифицировали только 95 процентов правильно. Что еще хуже, мы не стали лучше классифицировать опасные ложноотрицательные результаты:\n",
        "#\n",
        "# Хотя классификатор никогда не был идеальным, подход 1-NN смог избежать\n",
        "# некоторых ложных отрицательных результатов за счет добавления ложных положительных результатов. Однако важно\n",
        "# иметь в виду, что было бы неразумно слишком тесно подгонять наш подход к\n",
        "# нашим тестовым данным; в конце концов, другой набор из 100 записей пациентов, скорее всего, будет несколько\n",
        "# отличаться от тех, которые использовались для измерения нашей эффективности.\n",
        "# Если вам нужно быть уверенным, что обучающийся будет обобщать будущие\n",
        "# данные, вы можете создать несколько наборов из 100 пациентов случайным образом и\n",
        "# неоднократно повторно тестировать результат. Методы тщательной оценки\n",
        "# производительности моделей машинного обучения будут обсуждаться\n",
        "# далее в Главе 10, Оценка эффективности модели."
      ],
      "metadata": {
        "colab": {
          "base_uri": "https://localhost:8080/",
          "height": 1000
        },
        "id": "n6VIgQ9BKxin",
        "outputId": "93d44f69-67db-477a-c759-ef5788961033"
      },
      "execution_count": 16,
      "outputs": [
        {
          "output_type": "stream",
          "name": "stdout",
          "text": [
            "'data.frame':\t569 obs. of  32 variables:\n",
            " $ id                     : int  842302 842517 84300903 84348301 84358402 843786 844359 84458202 844981 84501001 ...\n",
            " $ diagnosis              : chr  \"M\" \"M\" \"M\" \"M\" ...\n",
            " $ radius_mean            : num  18 20.6 19.7 11.4 20.3 ...\n",
            " $ texture_mean           : num  10.4 17.8 21.2 20.4 14.3 ...\n",
            " $ perimeter_mean         : num  122.8 132.9 130 77.6 135.1 ...\n",
            " $ area_mean              : num  1001 1326 1203 386 1297 ...\n",
            " $ smoothness_mean        : num  0.1184 0.0847 0.1096 0.1425 0.1003 ...\n",
            " $ compactness_mean       : num  0.2776 0.0786 0.1599 0.2839 0.1328 ...\n",
            " $ concavity_mean         : num  0.3001 0.0869 0.1974 0.2414 0.198 ...\n",
            " $ concave.points_mean    : num  0.1471 0.0702 0.1279 0.1052 0.1043 ...\n",
            " $ symmetry_mean          : num  0.242 0.181 0.207 0.26 0.181 ...\n",
            " $ fractal_dimension_mean : num  0.0787 0.0567 0.06 0.0974 0.0588 ...\n",
            " $ radius_se              : num  1.095 0.543 0.746 0.496 0.757 ...\n",
            " $ texture_se             : num  0.905 0.734 0.787 1.156 0.781 ...\n",
            " $ perimeter_se           : num  8.59 3.4 4.58 3.44 5.44 ...\n",
            " $ area_se                : num  153.4 74.1 94 27.2 94.4 ...\n",
            " $ smoothness_se          : num  0.0064 0.00522 0.00615 0.00911 0.01149 ...\n",
            " $ compactness_se         : num  0.049 0.0131 0.0401 0.0746 0.0246 ...\n",
            " $ concavity_se           : num  0.0537 0.0186 0.0383 0.0566 0.0569 ...\n",
            " $ concave.points_se      : num  0.0159 0.0134 0.0206 0.0187 0.0188 ...\n",
            " $ symmetry_se            : num  0.03 0.0139 0.0225 0.0596 0.0176 ...\n",
            " $ fractal_dimension_se   : num  0.00619 0.00353 0.00457 0.00921 0.00511 ...\n",
            " $ radius_worst           : num  25.4 25 23.6 14.9 22.5 ...\n",
            " $ texture_worst          : num  17.3 23.4 25.5 26.5 16.7 ...\n",
            " $ perimeter_worst        : num  184.6 158.8 152.5 98.9 152.2 ...\n",
            " $ area_worst             : num  2019 1956 1709 568 1575 ...\n",
            " $ smoothness_worst       : num  0.162 0.124 0.144 0.21 0.137 ...\n",
            " $ compactness_worst      : num  0.666 0.187 0.424 0.866 0.205 ...\n",
            " $ concavity_worst        : num  0.712 0.242 0.45 0.687 0.4 ...\n",
            " $ concave.points_worst   : num  0.265 0.186 0.243 0.258 0.163 ...\n",
            " $ symmetry_worst         : num  0.46 0.275 0.361 0.664 0.236 ...\n",
            " $ fractal_dimension_worst: num  0.1189 0.089 0.0876 0.173 0.0768 ...\n"
          ]
        },
        {
          "output_type": "display_data",
          "data": {
            "text/plain": [
              "\n",
              "  B   M \n",
              "357 212 "
            ]
          },
          "metadata": {}
        },
        {
          "output_type": "display_data",
          "data": {
            "text/plain": [
              "\n",
              "   Benign Malignant \n",
              "     62.7      37.3 "
            ]
          },
          "metadata": {}
        },
        {
          "output_type": "display_data",
          "data": {
            "text/plain": [
              "  radius_mean       area_mean      smoothness_mean  \n",
              " Min.   : 6.981   Min.   : 143.5   Min.   :0.05263  \n",
              " 1st Qu.:11.700   1st Qu.: 420.3   1st Qu.:0.08637  \n",
              " Median :13.370   Median : 551.1   Median :0.09587  \n",
              " Mean   :14.127   Mean   : 654.9   Mean   :0.09636  \n",
              " 3rd Qu.:15.780   3rd Qu.: 782.7   3rd Qu.:0.10530  \n",
              " Max.   :28.110   Max.   :2501.0   Max.   :0.16340  "
            ]
          },
          "metadata": {}
        },
        {
          "output_type": "display_data",
          "data": {
            "text/html": [
              "<style>\n",
              ".list-inline {list-style: none; margin:0; padding: 0}\n",
              ".list-inline>li {display: inline-block}\n",
              ".list-inline>li:not(:last-child)::after {content: \"\\00b7\"; padding: 0 .5ex}\n",
              "</style>\n",
              "<ol class=list-inline><li>0</li><li>0.25</li><li>0.5</li><li>0.75</li><li>1</li></ol>\n"
            ],
            "text/markdown": "1. 0\n2. 0.25\n3. 0.5\n4. 0.75\n5. 1\n\n\n",
            "text/latex": "\\begin{enumerate*}\n\\item 0\n\\item 0.25\n\\item 0.5\n\\item 0.75\n\\item 1\n\\end{enumerate*}\n",
            "text/plain": [
              "[1] 0.00 0.25 0.50 0.75 1.00"
            ]
          },
          "metadata": {}
        },
        {
          "output_type": "display_data",
          "data": {
            "text/plain": [
              "   Min. 1st Qu.  Median    Mean 3rd Qu.    Max. \n",
              " 0.0000  0.1174  0.1729  0.2169  0.2711  1.0000 "
            ]
          },
          "metadata": {}
        },
        {
          "output_type": "stream",
          "name": "stdout",
          "text": [
            "\n",
            " \n",
            "   Cell Contents\n",
            "|-------------------------|\n",
            "|                       N |\n",
            "|           N / Row Total |\n",
            "|           N / Col Total |\n",
            "|         N / Table Total |\n",
            "|-------------------------|\n",
            "\n",
            " \n",
            "Total Observations in Table:  100 \n",
            "\n",
            " \n",
            "                 | wbcd_test_pred \n",
            "wbcd_test_labels |    Benign | Malignant | Row Total | \n",
            "-----------------|-----------|-----------|-----------|\n",
            "          Benign |        77 |         0 |        77 | \n",
            "                 |     1.000 |     0.000 |     0.770 | \n",
            "                 |     0.975 |     0.000 |           | \n",
            "                 |     0.770 |     0.000 |           | \n",
            "-----------------|-----------|-----------|-----------|\n",
            "       Malignant |         2 |        21 |        23 | \n",
            "                 |     0.087 |     0.913 |     0.230 | \n",
            "                 |     0.025 |     1.000 |           | \n",
            "                 |     0.020 |     0.210 |           | \n",
            "-----------------|-----------|-----------|-----------|\n",
            "    Column Total |        79 |        21 |       100 | \n",
            "                 |     0.790 |     0.210 |           | \n",
            "-----------------|-----------|-----------|-----------|\n",
            "\n",
            " \n"
          ]
        },
        {
          "output_type": "display_data",
          "data": {
            "text/plain": [
              "   Min. 1st Qu.  Median    Mean 3rd Qu.    Max. \n",
              "-1.4532 -0.6666 -0.2949  0.0000  0.3632  5.2459 "
            ]
          },
          "metadata": {}
        },
        {
          "output_type": "stream",
          "name": "stdout",
          "text": [
            "\n",
            " \n",
            "   Cell Contents\n",
            "|-------------------------|\n",
            "|                       N |\n",
            "|           N / Row Total |\n",
            "|           N / Col Total |\n",
            "|         N / Table Total |\n",
            "|-------------------------|\n",
            "\n",
            " \n",
            "Total Observations in Table:  100 \n",
            "\n",
            " \n",
            "                 | wbcd_test_pred \n",
            "wbcd_test_labels |    Benign | Malignant | Row Total | \n",
            "-----------------|-----------|-----------|-----------|\n",
            "          Benign |        77 |         0 |        77 | \n",
            "                 |     1.000 |     0.000 |     0.770 | \n",
            "                 |     0.975 |     0.000 |           | \n",
            "                 |     0.770 |     0.000 |           | \n",
            "-----------------|-----------|-----------|-----------|\n",
            "       Malignant |         2 |        21 |        23 | \n",
            "                 |     0.087 |     0.913 |     0.230 | \n",
            "                 |     0.025 |     1.000 |           | \n",
            "                 |     0.020 |     0.210 |           | \n",
            "-----------------|-----------|-----------|-----------|\n",
            "    Column Total |        79 |        21 |       100 | \n",
            "                 |     0.790 |     0.210 |           | \n",
            "-----------------|-----------|-----------|-----------|\n",
            "\n",
            " \n"
          ]
        }
      ]
    },
    {
      "cell_type": "code",
      "source": [
        "sms_raw <- read.csv(\"/content/sample_data/sms_spam.csv\", stringsAsFactors = FALSE)"
      ],
      "metadata": {
        "id": "tEa1bT21KxmG"
      },
      "execution_count": 1,
      "outputs": []
    },
    {
      "cell_type": "code",
      "source": [
        "str(sms_raw)"
      ],
      "metadata": {
        "colab": {
          "base_uri": "https://localhost:8080/"
        },
        "id": "Cui9IbXtKxtZ",
        "outputId": "0f331c5b-f144-43ba-dc1f-9bab9fcd77d1"
      },
      "execution_count": 2,
      "outputs": [
        {
          "output_type": "stream",
          "name": "stdout",
          "text": [
            "'data.frame':\t5574 obs. of  2 variables:\n",
            " $ type: chr  \"ham\" \"ham\" \"spam\" \"ham\" ...\n",
            " $ text: chr  \"Go until jurong point, crazy.. Available only in bugis n great world la e buffet... Cine there got amore wat...\" \"Ok lar... Joking wif u oni...\" \"Free entry in 2 a wkly comp to win FA Cup final tkts 21st May 2005. Text FA to 87121 to receive entry question(\"| __truncated__ \"U dun say so early hor... U c already then say...\" ...\n"
          ]
        }
      ]
    },
    {
      "cell_type": "code",
      "source": [
        "# The type element is currently a character vector. Since this is a categorical variable, it\n",
        "# would be better to convert it into a factor, as shown in the following code:\n",
        "sms_raw$type <- factor(sms_raw$type)"
      ],
      "metadata": {
        "id": "zPZLUP3KSocx"
      },
      "execution_count": 3,
      "outputs": []
    },
    {
      "cell_type": "code",
      "source": [
        "str(sms_raw$type)"
      ],
      "metadata": {
        "colab": {
          "base_uri": "https://localhost:8080/"
        },
        "id": "oDi4qPTkSogy",
        "outputId": "2f338e36-7ea2-4723-ff64-e1c374ec9dfd"
      },
      "execution_count": 4,
      "outputs": [
        {
          "output_type": "stream",
          "name": "stdout",
          "text": [
            " Factor w/ 2 levels \"ham\",\"spam\": 1 1 2 1 1 2 1 1 2 2 ...\n"
          ]
        }
      ]
    },
    {
      "cell_type": "code",
      "source": [
        "# install.packages(\"tm\")\n",
        "library(tm)"
      ],
      "metadata": {
        "colab": {
          "base_uri": "https://localhost:8080/"
        },
        "id": "ynrBhx14TimY",
        "outputId": "b42c758f-0f52-47e0-a917-99a6613db38a"
      },
      "execution_count": 13,
      "outputs": [
        {
          "output_type": "stream",
          "name": "stderr",
          "text": [
            "Loading required package: NLP\n",
            "\n"
          ]
        }
      ]
    },
    {
      "cell_type": "code",
      "source": [
        "sms_corpus <- VCorpus(VectorSource(sms_raw$text))"
      ],
      "metadata": {
        "id": "nPf1-tpESolU"
      },
      "execution_count": 14,
      "outputs": []
    },
    {
      "cell_type": "code",
      "source": [
        "print(sms_corpus)"
      ],
      "metadata": {
        "colab": {
          "base_uri": "https://localhost:8080/"
        },
        "id": "ME54NXGmSop-",
        "outputId": "5a969fc4-037a-402d-f44f-6338880faa79"
      },
      "execution_count": 15,
      "outputs": [
        {
          "output_type": "stream",
          "name": "stdout",
          "text": [
            "<<VCorpus>>\n",
            "Metadata:  corpus specific: 0, document level (indexed): 0\n",
            "Content:  documents: 5574\n"
          ]
        }
      ]
    },
    {
      "cell_type": "code",
      "source": [
        "# Поскольку корпус tm по сути является сложным списком, мы можем использовать операции со списками для выбора\n",
        "# документов в корпусе. Чтобы получить сводку определенных сообщений, мы можем использовать\n",
        "# функцию inspect() с операторами списка. Например, следующая команда\n",
        "# просмотрит сводку первого и второго SMS-сообщений в корпусе:\n",
        "inspect(sms_corpus[1:2])"
      ],
      "metadata": {
        "colab": {
          "base_uri": "https://localhost:8080/"
        },
        "id": "HCPuoknPKxwy",
        "outputId": "82d675ae-7299-4ca8-8706-2449346520c3"
      },
      "execution_count": 17,
      "outputs": [
        {
          "output_type": "stream",
          "name": "stdout",
          "text": [
            "<<VCorpus>>\n",
            "Metadata:  corpus specific: 0, document level (indexed): 0\n",
            "Content:  documents: 2\n",
            "\n",
            "[[1]]\n",
            "<<PlainTextDocument>>\n",
            "Metadata:  7\n",
            "Content:  chars: 111\n",
            "\n",
            "[[2]]\n",
            "<<PlainTextDocument>>\n",
            "Metadata:  7\n",
            "Content:  chars: 29\n",
            "\n"
          ]
        }
      ]
    },
    {
      "cell_type": "code",
      "source": [
        "as.character(sms_corpus[[1]])"
      ],
      "metadata": {
        "colab": {
          "base_uri": "https://localhost:8080/",
          "height": 34
        },
        "id": "xuzCfbx-WxPZ",
        "outputId": "0c0ba9b2-0d0b-4437-9577-db6f74d32fd0"
      },
      "execution_count": 18,
      "outputs": [
        {
          "output_type": "display_data",
          "data": {
            "text/html": [
              "'Go until jurong point, crazy.. Available only in bugis n great world la e buffet... Cine there got amore wat...'"
            ],
            "text/markdown": "'Go until jurong point, crazy.. Available only in bugis n great world la e buffet... Cine there got amore wat...'",
            "text/latex": "'Go until jurong point, crazy.. Available only in bugis n great world la e buffet... Cine there got amore wat...'",
            "text/plain": [
              "[1] \"Go until jurong point, crazy.. Available only in bugis n great world la e buffet... Cine there got amore wat...\""
            ]
          },
          "metadata": {}
        }
      ]
    },
    {
      "cell_type": "code",
      "source": [
        "lapply(sms_corpus[1:2], as.character)"
      ],
      "metadata": {
        "colab": {
          "base_uri": "https://localhost:8080/",
          "height": 114
        },
        "id": "Eewfq-YaWxS7",
        "outputId": "f95f915c-f960-4b99-a876-22838bc1ed11"
      },
      "execution_count": 19,
      "outputs": [
        {
          "output_type": "display_data",
          "data": {
            "text/html": [
              "<dl>\n",
              "\t<dt>$`1`</dt>\n",
              "\t\t<dd>'Go until jurong point, crazy.. Available only in bugis n great world la e buffet... Cine there got amore wat...'</dd>\n",
              "\t<dt>$`2`</dt>\n",
              "\t\t<dd>'Ok lar... Joking wif u oni...'</dd>\n",
              "</dl>\n"
            ],
            "text/markdown": "$`1`\n:   'Go until jurong point, crazy.. Available only in bugis n great world la e buffet... Cine there got amore wat...'\n$`2`\n:   'Ok lar... Joking wif u oni...'\n\n\n",
            "text/latex": "\\begin{description}\n\\item[\\$`1`] 'Go until jurong point, crazy.. Available only in bugis n great world la e buffet... Cine there got amore wat...'\n\\item[\\$`2`] 'Ok lar... Joking wif u oni...'\n\\end{description}\n",
            "text/plain": [
              "$`1`\n",
              "[1] \"Go until jurong point, crazy.. Available only in bugis n great world la e buffet... Cine there got amore wat...\"\n",
              "\n",
              "$`2`\n",
              "[1] \"Ok lar... Joking wif u oni...\"\n"
            ]
          },
          "metadata": {}
        }
      ]
    },
    {
      "cell_type": "markdown",
      "source": [
        "Как отмечалось ранее, корпус содержит необработанный текст 5559 текстовых сообщений. Чтобы выполнить анализ, нам нужно разделить эти сообщения на отдельные слова.\n",
        "Но сначала нам нужно очистить текст, чтобы стандартизировать слова, удалив\n",
        "знаки препинания и другие символы, которые загромождают результат. Например, мы хотели бы, чтобы\n",
        "строки Hello!, HELLO и hello считались экземплярами одного и того же слова.\n",
        "Функция tm_map() предоставляет метод для применения преобразования (также известного как отображение) к корпусу tm. Мы будем использовать эту функцию для очистки нашего корпуса с помощью\n",
        "серии преобразований и сохранения результата в новом объекте corpus_clean."
      ],
      "metadata": {
        "id": "PpXbA4_BXtVH"
      }
    },
    {
      "cell_type": "code",
      "source": [
        "sms_corpus_clean <- tm_map(sms_corpus,\n",
        "content_transformer(tolower))\n",
        "\n",
        "sms_corpus_clean <- tm_map(sms_corpus_clean, removeNumbers)\n",
        "\n",
        "sms_corpus_clean <- tm_map(sms_corpus_clean,\n",
        "removeWords, stopwords())\n",
        "\n",
        "sms_corpus_clean <- tm_map(sms_corpus_clean, removePunctuation)\n",
        "\n"
      ],
      "metadata": {
        "id": "of9zTsF-XTMq"
      },
      "execution_count": 25,
      "outputs": []
    },
    {
      "cell_type": "code",
      "source": [
        "# replacePunctuation <- function(x) {\n",
        "#                gsub(\"[[:punct:]]+\", \" \", x)\n",
        "install.packages(\"SnowballC\")"
      ],
      "metadata": {
        "colab": {
          "base_uri": "https://localhost:8080/"
        },
        "id": "S_egtBwjXTRf",
        "outputId": "f0f6108b-cb18-4e81-901d-db46f9cde1d9"
      },
      "execution_count": 22,
      "outputs": [
        {
          "output_type": "stream",
          "name": "stderr",
          "text": [
            "Installing package into ‘/usr/local/lib/R/site-library’\n",
            "(as ‘lib’ is unspecified)\n",
            "\n"
          ]
        }
      ]
    },
    {
      "cell_type": "code",
      "source": [
        "library(SnowballC)"
      ],
      "metadata": {
        "id": "vUGsjHc_WxXD"
      },
      "execution_count": 26,
      "outputs": []
    },
    {
      "cell_type": "code",
      "source": [
        "sms_corpus_clean <- tm_map(sms_corpus_clean, stemDocument)"
      ],
      "metadata": {
        "id": "0MEjeamNWxaf"
      },
      "execution_count": 27,
      "outputs": []
    },
    {
      "cell_type": "code",
      "source": [
        "sms_corpus_clean <- tm_map(sms_corpus_clean, stripWhitespace)"
      ],
      "metadata": {
        "id": "QAp-UfGjZYE8"
      },
      "execution_count": 28,
      "outputs": []
    },
    {
      "cell_type": "code",
      "source": [
        "sms_dtm <- DocumentTermMatrix(sms_corpus_clean)"
      ],
      "metadata": {
        "id": "m2jGmMzBZYJS"
      },
      "execution_count": 29,
      "outputs": []
    },
    {
      "cell_type": "code",
      "source": [
        "sms_dtm2 <- DocumentTermMatrix(sms_corpus, control = list(\n",
        "tolower = TRUE, removeNumbers = TRUE,\n",
        "stopwords = TRUE,\n",
        "removePunctuation = TRUE,\n",
        "stemming = TRUE\n",
        "))"
      ],
      "metadata": {
        "id": "McWUCMmSZYM8"
      },
      "execution_count": 30,
      "outputs": []
    },
    {
      "cell_type": "code",
      "source": [
        "sms_dtm_train <- sms_dtm[1:4169, ]\n",
        "sms_dtm_test <- sms_dtm[4170:5559, ]"
      ],
      "metadata": {
        "id": "Hb6-S1kKZYWh"
      },
      "execution_count": 31,
      "outputs": []
    },
    {
      "cell_type": "code",
      "source": [
        "sms_train_labels <- sms_raw[1:4169, ]$type\n",
        "sms_test_labels <- sms_raw[4170:5559, ]$type"
      ],
      "metadata": {
        "id": "gugkW8dCZYb0"
      },
      "execution_count": 32,
      "outputs": []
    },
    {
      "cell_type": "code",
      "source": [
        "# install.packages(\"wordcloud\")\n",
        "library(wordcloud)"
      ],
      "metadata": {
        "colab": {
          "base_uri": "https://localhost:8080/"
        },
        "id": "8V-fFccZa_SW",
        "outputId": "667375ef-bdee-4326-aac5-dab3348ce604"
      },
      "execution_count": 35,
      "outputs": [
        {
          "output_type": "stream",
          "name": "stderr",
          "text": [
            "Loading required package: RColorBrewer\n",
            "\n"
          ]
        }
      ]
    },
    {
      "cell_type": "code",
      "source": [
        "wordcloud(sms_corpus_clean, min.freq = 50, random.order = FALSE)"
      ],
      "metadata": {
        "colab": {
          "base_uri": "https://localhost:8080/",
          "height": 437
        },
        "id": "HbE06R2Za_Vq",
        "outputId": "7065ad44-36e1-47ef-b412-e78a104bd771"
      },
      "execution_count": 36,
      "outputs": [
        {
          "output_type": "display_data",
          "data": {
            "text/plain": [
              "plot without title"
            ],
            "image/png": "[encoded data removed]"
          },
          "metadata": {
            "image/png": {
              "width": 420,
              "height": 420
            }
          }
        }
      ]
    },
    {
      "cell_type": "code",
      "source": [
        "spam <- subset(sms_raw, type == \"spam\")\n",
        "ham <- subset(sms_raw, type == \"ham\")"
      ],
      "metadata": {
        "id": "3K1SuKv3a_ZS"
      },
      "execution_count": 37,
      "outputs": []
    },
    {
      "cell_type": "code",
      "source": [
        "wordcloud(spam$text, max.words = 40, scale = c(3, 0.5))\n",
        "wordcloud(ham$text, max.words = 40, scale = c(3, 0.5))"
      ],
      "metadata": {
        "colab": {
          "base_uri": "https://localhost:8080/",
          "height": 996
        },
        "id": "gJfLaYl2a_cn",
        "outputId": "af61eb3b-794f-4d36-d67c-2b55a4016e14"
      },
      "execution_count": 38,
      "outputs": [
        {
          "output_type": "stream",
          "name": "stderr",
          "text": [
            "Warning message in tm_map.SimpleCorpus(corpus, tm::removePunctuation):\n",
            "“transformation drops documents”\n",
            "Warning message in tm_map.SimpleCorpus(corpus, function(x) tm::removeWords(x, tm::stopwords())):\n",
            "“transformation drops documents”\n",
            "Warning message in tm_map.SimpleCorpus(corpus, tm::removePunctuation):\n",
            "“transformation drops documents”\n",
            "Warning message in tm_map.SimpleCorpus(corpus, function(x) tm::removeWords(x, tm::stopwords())):\n",
            "“transformation drops documents”\n"
          ]
        },
        {
          "output_type": "display_data",
          "data": {
            "text/plain": [
              "plot without title"
            ],
            "image/png": "[encoded data removed]"
          },
          "metadata": {
            "image/png": {
              "width": 420,
              "height": 420
            }
          }
        },
        {
          "output_type": "display_data",
          "data": {
            "text/plain": [
              "plot without title"
            ],
            "image/png": "[encoded data removed]"
          },
          "metadata": {
            "image/png": {
              "width": 420,
              "height": 420
            }
          }
        }
      ]
    },
    {
      "cell_type": "markdown",
      "source": [
        "Последним шагом в процессе подготовки данных является преобразование разреженной матрицы в\n",
        "структуру данных, которую можно использовать для обучения наивного байесовского классификатора. В настоящее время разреженная\n",
        "матрица включает более 6500 признаков; это признак для каждого слова, которое появляется как минимум в одном SMS-сообщении. Маловероятно, что все они полезны для классификации. Чтобы\n",
        "сократить количество признаков, мы удалим любое слово, которое появляется менее чем в пяти\n",
        "SMS-сообщениях или менее чем в 0,1 процента записей в обучающих данных.\n",
        "Для поиска часто встречающихся слов требуется использование функции findFreqTerms() в\n",
        "пакете tm. Эта функция принимает DTM и возвращает вектор символов, содержащий\n",
        "слова, которые появляются как минимум указанное количество раз. Например,\n",
        "следующая команда отобразит слова, которые появляются как минимум пять раз в\n",
        "матрице sms_dtm_train:"
      ],
      "metadata": {
        "id": "MHdk0aOZdecH"
      }
    },
    {
      "cell_type": "code",
      "source": [
        "findFreqTerms(sms_dtm_train, 5)"
      ],
      "metadata": {
        "colab": {
          "base_uri": "https://localhost:8080/",
          "height": 347
        },
        "id": "W8H8hCbicLOA",
        "outputId": "d9263a07-a146-4042-c5a2-daf1cef57909"
      },
      "execution_count": 39,
      "outputs": [
        {
          "output_type": "display_data",
          "data": {
            "text/html": [
              "<style>\n",
              ".list-inline {list-style: none; margin:0; padding: 0}\n",
              ".list-inline>li {display: inline-block}\n",
              ".list-inline>li:not(:last-child)::after {content: \"\\00b7\"; padding: 0 .5ex}\n",
              "</style>\n",
              "<ol class=list-inline><li>'£wk'</li><li>'abiola'</li><li>'abl'</li><li>'abt'</li><li>'accept'</li><li>'access'</li><li>'account'</li><li>'across'</li><li>'activ'</li><li>'actual'</li><li>'add'</li><li>'address'</li><li>'admir'</li><li>'adult'</li><li>'advanc'</li><li>'aft'</li><li>'afternoon'</li><li>'aftr'</li><li>'age'</li><li>'ago'</li><li>'ahead'</li><li>'aight'</li><li>'aint'</li><li>'air'</li><li>'aiyah'</li><li>'alex'</li><li>'almost'</li><li>'alon'</li><li>'alreadi'</li><li>'alright'</li><li>'alrit'</li><li>'also'</li><li>'alway'</li><li>'amp'</li><li>'angri'</li><li>'announc'</li><li>'anoth'</li><li>'answer'</li><li>'anybodi'</li><li>'anymor'</li><li>'anyon'</li><li>'anyth'</li><li>'anytim'</li><li>'anyway'</li><li>'apart'</li><li>'app'</li><li>'appli'</li><li>'appoint'</li><li>'appreci'</li><li>'april'</li><li>'ard'</li><li>'area'</li><li>'argument'</li><li>'arm'</li><li>'around'</li><li>'arrang'</li><li>'arrest'</li><li>'arriv'</li><li>'asap'</li><li>'ask'</li><li>'askd'</li><li>'asleep'</li><li>'ass'</li><li>'attempt'</li><li>'auction'</li><li>'avail'</li><li>'ave'</li><li>'avoid'</li><li>'await'</li><li>'award'</li><li>'away'</li><li>'awesom'</li><li>'babe'</li><li>'babi'</li><li>'back'</li><li>'bad'</li><li>'bag'</li><li>'bak'</li><li>'balanc'</li><li>'bank'</li><li>'bare'</li><li>'bath'</li><li>'batteri'</li><li>'bcoz'</li><li>'bcum'</li><li>'bday'</li><li>'beauti'</li><li>'becom'</li><li>'bed'</li><li>'bedroom'</li><li>'begin'</li><li>'believ'</li><li>'belli'</li><li>'best'</li><li>'better'</li><li>'bid'</li><li>'big'</li><li>'bill'</li><li>'bird'</li><li>'birthday'</li><li>'bit'</li><li>'black'</li><li>'blank'</li><li>'bless'</li><li>'blue'</li><li>'bluetooth'</li><li>'bodi'</li><li>'bold'</li><li>'bonus'</li><li>'boo'</li><li>'book'</li><li>'bore'</li><li>'boss'</li><li>'bother'</li><li>'bout'</li><li>'bowl'</li><li>'box'</li><li>'boy'</li><li>'boytoy'</li><li>'brand'</li><li>'break'</li><li>'breath'</li><li>'brilliant'</li><li>'bring'</li><li>'brother'</li><li>'bslvyl'</li><li>'btnationalr'</li><li>'budget'</li><li>'bugi'</li><li>'bus'</li><li>'busi'</li><li>'buy'</li><li>'buzz'</li><li>'cabin'</li><li>'cafe'</li><li>'cal'</li><li>'call'</li><li>'caller'</li><li>'callertun'</li><li>'camcord'</li><li>'came'</li><li>'camera'</li><li>'can'</li><li>'cancel'</li><li>'cant'</li><li>'car'</li><li>'card'</li><li>'care'</li><li>'carlo'</li><li>'case'</li><li>'cash'</li><li>'cashbal'</li><li>'catch'</li><li>'caus'</li><li>'chanc'</li><li>'chang'</li><li>'charact'</li><li>'charg'</li><li>'chariti'</li><li>'chat'</li><li>'cheap'</li><li>'check'</li><li>'cheer'</li><li>'chennai'</li><li>'chikku'</li><li>'childish'</li><li>'children'</li><li>'chines'</li><li>'choic'</li><li>'choos'</li><li>'christma'</li><li>'cine'</li><li>'cinema'</li><li>'claim'</li><li>'class'</li><li>'clean'</li><li>'clear'</li><li>'click'</li><li>'clock'</li><li>'close'</li><li>'club'</li><li>'code'</li><li>'coffe'</li><li>'coin'</li><li>'cold'</li><li>'colleagu'</li><li>'collect'</li><li>'colleg'</li><li>'colour'</li><li>'come'</li><li>'comin'</li><li>'comp'</li><li>'compani'</li><li>'competit'</li><li>'complet'</li><li>'complimentari'</li><li>'comput'</li><li>'concentr'</li><li>'condit'</li><li>'confid'</li><li>⋯</li><li>'stuff'</li><li>'stupid'</li><li>'style'</li><li>'sub'</li><li>'subscrib'</li><li>'success'</li><li>'summer'</li><li>'sun'</li><li>'sunday'</li><li>'sunshin'</li><li>'support'</li><li>'suppos'</li><li>'sure'</li><li>'surpris'</li><li>'sweet'</li><li>'swing'</li><li>'system'</li><li>'take'</li><li>'talk'</li><li>'tampa'</li><li>'tcs'</li><li>'teach'</li><li>'team'</li><li>'tear'</li><li>'teas'</li><li>'tel'</li><li>'tell'</li><li>'ten'</li><li>'tenerif'</li><li>'term'</li><li>'test'</li><li>'text'</li><li>'thank'</li><li>'thanx'</li><li>'that'</li><li>'thing'</li><li>'think'</li><li>'thinkin'</li><li>'thk'</li><li>'thnk'</li><li>'tho'</li><li>'though'</li><li>'thought'</li><li>'throw'</li><li>'thru'</li><li>'tht'</li><li>'thur'</li><li>'ticket'</li><li>'til'</li><li>'till'</li><li>'time'</li><li>'tire'</li><li>'titl'</li><li>'tmr'</li><li>'tncs'</li><li>'today'</li><li>'togeth'</li><li>'told'</li><li>'tomo'</li><li>'tomorrow'</li><li>'tone'</li><li>'tonight'</li><li>'tonit'</li><li>'took'</li><li>'top'</li><li>'tot'</li><li>'total'</li><li>'touch'</li><li>'tough'</li><li>'tour'</li><li>'toward'</li><li>'town'</li><li>'track'</li><li>'train'</li><li>'transact'</li><li>'treat'</li><li>'tri'</li><li>'trip'</li><li>'troubl'</li><li>'true'</li><li>'trust'</li><li>'truth'</li><li>'tscs'</li><li>'ttyl'</li><li>'tuesday'</li><li>'turn'</li><li>'twice'</li><li>'two'</li><li>'txt'</li><li>'txting'</li><li>'txts'</li><li>'type'</li><li>'ufind'</li><li>'ugh'</li><li>'umma'</li><li>'uncl'</li><li>'understand'</li><li>'unless'</li><li>'unlimit'</li><li>'unredeem'</li><li>'unsub'</li><li>'unsubscrib'</li><li>'updat'</li><li>'ure'</li><li>'urgent'</li><li>'urself'</li><li>'use'</li><li>'usf'</li><li>'usual'</li><li>'uve'</li><li>'valentin'</li><li>'valid'</li><li>'valu'</li><li>'vari'</li><li>'verifi'</li><li>'via'</li><li>'video'</li><li>'visit'</li><li>'voic'</li><li>'voucher'</li><li>'wait'</li><li>'wake'</li><li>'walk'</li><li>'wan'</li><li>'wana'</li><li>'wanna'</li><li>'want'</li><li>'wap'</li><li>'warm'</li><li>'wast'</li><li>'wat'</li><li>'watch'</li><li>'water'</li><li>'way'</li><li>'weak'</li><li>'wear'</li><li>'weather'</li><li>'wed'</li><li>'wednesday'</li><li>'weed'</li><li>'week'</li><li>'weekend'</li><li>'weight'</li><li>'welcom'</li><li>'well'</li><li>'wen'</li><li>'went'</li><li>'wer'</li><li>'wet'</li><li>'what'</li><li>'whatev'</li><li>'whenev'</li><li>'whole'</li><li>'wid'</li><li>'wif'</li><li>'wife'</li><li>'wil'</li><li>'will'</li><li>'win'</li><li>'wine'</li><li>'winner'</li><li>'wish'</li><li>'wit'</li><li>'within'</li><li>'without'</li><li>'wiv'</li><li>'wkli'</li><li>'wnt'</li><li>'woke'</li><li>'won'</li><li>'wonder'</li><li>'wont'</li><li>'word'</li><li>'work'</li><li>'workin'</li><li>'world'</li><li>'worri'</li><li>'worth'</li><li>'wot'</li><li>'wow'</li><li>'write'</li><li>'wrong'</li><li>'wun'</li><li>'wwwgetzedcouk'</li><li>'xmas'</li><li>'xxx'</li><li>'yahoo'</li><li>'yar'</li><li>'yeah'</li><li>'year'</li><li>'yep'</li><li>'yes'</li><li>'yest'</li><li>'yesterday'</li><li>'yet'</li><li>'yoga'</li><li>'yogasana'</li><li>'yrs'</li><li>'yun'</li><li>'yup'</li></ol>\n"
            ],
            "text/markdown": "1. '£wk'\n2. 'abiola'\n3. 'abl'\n4. 'abt'\n5. 'accept'\n6. 'access'\n7. 'account'\n8. 'across'\n9. 'activ'\n10. 'actual'\n11. 'add'\n12. 'address'\n13. 'admir'\n14. 'adult'\n15. 'advanc'\n16. 'aft'\n17. 'afternoon'\n18. 'aftr'\n19. 'age'\n20. 'ago'\n21. 'ahead'\n22. 'aight'\n23. 'aint'\n24. 'air'\n25. 'aiyah'\n26. 'alex'\n27. 'almost'\n28. 'alon'\n29. 'alreadi'\n30. 'alright'\n31. 'alrit'\n32. 'also'\n33. 'alway'\n34. 'amp'\n35. 'angri'\n36. 'announc'\n37. 'anoth'\n38. 'answer'\n39. 'anybodi'\n40. 'anymor'\n41. 'anyon'\n42. 'anyth'\n43. 'anytim'\n44. 'anyway'\n45. 'apart'\n46. 'app'\n47. 'appli'\n48. 'appoint'\n49. 'appreci'\n50. 'april'\n51. 'ard'\n52. 'area'\n53. 'argument'\n54. 'arm'\n55. 'around'\n56. 'arrang'\n57. 'arrest'\n58. 'arriv'\n59. 'asap'\n60. 'ask'\n61. 'askd'\n62. 'asleep'\n63. 'ass'\n64. 'attempt'\n65. 'auction'\n66. 'avail'\n67. 'ave'\n68. 'avoid'\n69. 'await'\n70. 'award'\n71. 'away'\n72. 'awesom'\n73. 'babe'\n74. 'babi'\n75. 'back'\n76. 'bad'\n77. 'bag'\n78. 'bak'\n79. 'balanc'\n80. 'bank'\n81. 'bare'\n82. 'bath'\n83. 'batteri'\n84. 'bcoz'\n85. 'bcum'\n86. 'bday'\n87. 'beauti'\n88. 'becom'\n89. 'bed'\n90. 'bedroom'\n91. 'begin'\n92. 'believ'\n93. 'belli'\n94. 'best'\n95. 'better'\n96. 'bid'\n97. 'big'\n98. 'bill'\n99. 'bird'\n100. 'birthday'\n101. 'bit'\n102. 'black'\n103. 'blank'\n104. 'bless'\n105. 'blue'\n106. 'bluetooth'\n107. 'bodi'\n108. 'bold'\n109. 'bonus'\n110. 'boo'\n111. 'book'\n112. 'bore'\n113. 'boss'\n114. 'bother'\n115. 'bout'\n116. 'bowl'\n117. 'box'\n118. 'boy'\n119. 'boytoy'\n120. 'brand'\n121. 'break'\n122. 'breath'\n123. 'brilliant'\n124. 'bring'\n125. 'brother'\n126. 'bslvyl'\n127. 'btnationalr'\n128. 'budget'\n129. 'bugi'\n130. 'bus'\n131. 'busi'\n132. 'buy'\n133. 'buzz'\n134. 'cabin'\n135. 'cafe'\n136. 'cal'\n137. 'call'\n138. 'caller'\n139. 'callertun'\n140. 'camcord'\n141. 'came'\n142. 'camera'\n143. 'can'\n144. 'cancel'\n145. 'cant'\n146. 'car'\n147. 'card'\n148. 'care'\n149. 'carlo'\n150. 'case'\n151. 'cash'\n152. 'cashbal'\n153. 'catch'\n154. 'caus'\n155. 'chanc'\n156. 'chang'\n157. 'charact'\n158. 'charg'\n159. 'chariti'\n160. 'chat'\n161. 'cheap'\n162. 'check'\n163. 'cheer'\n164. 'chennai'\n165. 'chikku'\n166. 'childish'\n167. 'children'\n168. 'chines'\n169. 'choic'\n170. 'choos'\n171. 'christma'\n172. 'cine'\n173. 'cinema'\n174. 'claim'\n175. 'class'\n176. 'clean'\n177. 'clear'\n178. 'click'\n179. 'clock'\n180. 'close'\n181. 'club'\n182. 'code'\n183. 'coffe'\n184. 'coin'\n185. 'cold'\n186. 'colleagu'\n187. 'collect'\n188. 'colleg'\n189. 'colour'\n190. 'come'\n191. 'comin'\n192. 'comp'\n193. 'compani'\n194. 'competit'\n195. 'complet'\n196. 'complimentari'\n197. 'comput'\n198. 'concentr'\n199. 'condit'\n200. 'confid'\n201. ⋯\n202. 'stuff'\n203. 'stupid'\n204. 'style'\n205. 'sub'\n206. 'subscrib'\n207. 'success'\n208. 'summer'\n209. 'sun'\n210. 'sunday'\n211. 'sunshin'\n212. 'support'\n213. 'suppos'\n214. 'sure'\n215. 'surpris'\n216. 'sweet'\n217. 'swing'\n218. 'system'\n219. 'take'\n220. 'talk'\n221. 'tampa'\n222. 'tcs'\n223. 'teach'\n224. 'team'\n225. 'tear'\n226. 'teas'\n227. 'tel'\n228. 'tell'\n229. 'ten'\n230. 'tenerif'\n231. 'term'\n232. 'test'\n233. 'text'\n234. 'thank'\n235. 'thanx'\n236. 'that'\n237. 'thing'\n238. 'think'\n239. 'thinkin'\n240. 'thk'\n241. 'thnk'\n242. 'tho'\n243. 'though'\n244. 'thought'\n245. 'throw'\n246. 'thru'\n247. 'tht'\n248. 'thur'\n249. 'ticket'\n250. 'til'\n251. 'till'\n252. 'time'\n253. 'tire'\n254. 'titl'\n255. 'tmr'\n256. 'tncs'\n257. 'today'\n258. 'togeth'\n259. 'told'\n260. 'tomo'\n261. 'tomorrow'\n262. 'tone'\n263. 'tonight'\n264. 'tonit'\n265. 'took'\n266. 'top'\n267. 'tot'\n268. 'total'\n269. 'touch'\n270. 'tough'\n271. 'tour'\n272. 'toward'\n273. 'town'\n274. 'track'\n275. 'train'\n276. 'transact'\n277. 'treat'\n278. 'tri'\n279. 'trip'\n280. 'troubl'\n281. 'true'\n282. 'trust'\n283. 'truth'\n284. 'tscs'\n285. 'ttyl'\n286. 'tuesday'\n287. 'turn'\n288. 'twice'\n289. 'two'\n290. 'txt'\n291. 'txting'\n292. 'txts'\n293. 'type'\n294. 'ufind'\n295. 'ugh'\n296. 'umma'\n297. 'uncl'\n298. 'understand'\n299. 'unless'\n300. 'unlimit'\n301. 'unredeem'\n302. 'unsub'\n303. 'unsubscrib'\n304. 'updat'\n305. 'ure'\n306. 'urgent'\n307. 'urself'\n308. 'use'\n309. 'usf'\n310. 'usual'\n311. 'uve'\n312. 'valentin'\n313. 'valid'\n314. 'valu'\n315. 'vari'\n316. 'verifi'\n317. 'via'\n318. 'video'\n319. 'visit'\n320. 'voic'\n321. 'voucher'\n322. 'wait'\n323. 'wake'\n324. 'walk'\n325. 'wan'\n326. 'wana'\n327. 'wanna'\n328. 'want'\n329. 'wap'\n330. 'warm'\n331. 'wast'\n332. 'wat'\n333. 'watch'\n334. 'water'\n335. 'way'\n336. 'weak'\n337. 'wear'\n338. 'weather'\n339. 'wed'\n340. 'wednesday'\n341. 'weed'\n342. 'week'\n343. 'weekend'\n344. 'weight'\n345. 'welcom'\n346. 'well'\n347. 'wen'\n348. 'went'\n349. 'wer'\n350. 'wet'\n351. 'what'\n352. 'whatev'\n353. 'whenev'\n354. 'whole'\n355. 'wid'\n356. 'wif'\n357. 'wife'\n358. 'wil'\n359. 'will'\n360. 'win'\n361. 'wine'\n362. 'winner'\n363. 'wish'\n364. 'wit'\n365. 'within'\n366. 'without'\n367. 'wiv'\n368. 'wkli'\n369. 'wnt'\n370. 'woke'\n371. 'won'\n372. 'wonder'\n373. 'wont'\n374. 'word'\n375. 'work'\n376. 'workin'\n377. 'world'\n378. 'worri'\n379. 'worth'\n380. 'wot'\n381. 'wow'\n382. 'write'\n383. 'wrong'\n384. 'wun'\n385. 'wwwgetzedcouk'\n386. 'xmas'\n387. 'xxx'\n388. 'yahoo'\n389. 'yar'\n390. 'yeah'\n391. 'year'\n392. 'yep'\n393. 'yes'\n394. 'yest'\n395. 'yesterday'\n396. 'yet'\n397. 'yoga'\n398. 'yogasana'\n399. 'yrs'\n400. 'yun'\n401. 'yup'\n\n\n",
            "text/latex": "\\begin{enumerate*}\n\\item '£wk'\n\\item 'abiola'\n\\item 'abl'\n\\item 'abt'\n\\item 'accept'\n\\item 'access'\n\\item 'account'\n\\item 'across'\n\\item 'activ'\n\\item 'actual'\n\\item 'add'\n\\item 'address'\n\\item 'admir'\n\\item 'adult'\n\\item 'advanc'\n\\item 'aft'\n\\item 'afternoon'\n\\item 'aftr'\n\\item 'age'\n\\item 'ago'\n\\item 'ahead'\n\\item 'aight'\n\\item 'aint'\n\\item 'air'\n\\item 'aiyah'\n\\item 'alex'\n\\item 'almost'\n\\item 'alon'\n\\item 'alreadi'\n\\item 'alright'\n\\item 'alrit'\n\\item 'also'\n\\item 'alway'\n\\item 'amp'\n\\item 'angri'\n\\item 'announc'\n\\item 'anoth'\n\\item 'answer'\n\\item 'anybodi'\n\\item 'anymor'\n\\item 'anyon'\n\\item 'anyth'\n\\item 'anytim'\n\\item 'anyway'\n\\item 'apart'\n\\item 'app'\n\\item 'appli'\n\\item 'appoint'\n\\item 'appreci'\n\\item 'april'\n\\item 'ard'\n\\item 'area'\n\\item 'argument'\n\\item 'arm'\n\\item 'around'\n\\item 'arrang'\n\\item 'arrest'\n\\item 'arriv'\n\\item 'asap'\n\\item 'ask'\n\\item 'askd'\n\\item 'asleep'\n\\item 'ass'\n\\item 'attempt'\n\\item 'auction'\n\\item 'avail'\n\\item 'ave'\n\\item 'avoid'\n\\item 'await'\n\\item 'award'\n\\item 'away'\n\\item 'awesom'\n\\item 'babe'\n\\item 'babi'\n\\item 'back'\n\\item 'bad'\n\\item 'bag'\n\\item 'bak'\n\\item 'balanc'\n\\item 'bank'\n\\item 'bare'\n\\item 'bath'\n\\item 'batteri'\n\\item 'bcoz'\n\\item 'bcum'\n\\item 'bday'\n\\item 'beauti'\n\\item 'becom'\n\\item 'bed'\n\\item 'bedroom'\n\\item 'begin'\n\\item 'believ'\n\\item 'belli'\n\\item 'best'\n\\item 'better'\n\\item 'bid'\n\\item 'big'\n\\item 'bill'\n\\item 'bird'\n\\item 'birthday'\n\\item 'bit'\n\\item 'black'\n\\item 'blank'\n\\item 'bless'\n\\item 'blue'\n\\item 'bluetooth'\n\\item 'bodi'\n\\item 'bold'\n\\item 'bonus'\n\\item 'boo'\n\\item 'book'\n\\item 'bore'\n\\item 'boss'\n\\item 'bother'\n\\item 'bout'\n\\item 'bowl'\n\\item 'box'\n\\item 'boy'\n\\item 'boytoy'\n\\item 'brand'\n\\item 'break'\n\\item 'breath'\n\\item 'brilliant'\n\\item 'bring'\n\\item 'brother'\n\\item 'bslvyl'\n\\item 'btnationalr'\n\\item 'budget'\n\\item 'bugi'\n\\item 'bus'\n\\item 'busi'\n\\item 'buy'\n\\item 'buzz'\n\\item 'cabin'\n\\item 'cafe'\n\\item 'cal'\n\\item 'call'\n\\item 'caller'\n\\item 'callertun'\n\\item 'camcord'\n\\item 'came'\n\\item 'camera'\n\\item 'can'\n\\item 'cancel'\n\\item 'cant'\n\\item 'car'\n\\item 'card'\n\\item 'care'\n\\item 'carlo'\n\\item 'case'\n\\item 'cash'\n\\item 'cashbal'\n\\item 'catch'\n\\item 'caus'\n\\item 'chanc'\n\\item 'chang'\n\\item 'charact'\n\\item 'charg'\n\\item 'chariti'\n\\item 'chat'\n\\item 'cheap'\n\\item 'check'\n\\item 'cheer'\n\\item 'chennai'\n\\item 'chikku'\n\\item 'childish'\n\\item 'children'\n\\item 'chines'\n\\item 'choic'\n\\item 'choos'\n\\item 'christma'\n\\item 'cine'\n\\item 'cinema'\n\\item 'claim'\n\\item 'class'\n\\item 'clean'\n\\item 'clear'\n\\item 'click'\n\\item 'clock'\n\\item 'close'\n\\item 'club'\n\\item 'code'\n\\item 'coffe'\n\\item 'coin'\n\\item 'cold'\n\\item 'colleagu'\n\\item 'collect'\n\\item 'colleg'\n\\item 'colour'\n\\item 'come'\n\\item 'comin'\n\\item 'comp'\n\\item 'compani'\n\\item 'competit'\n\\item 'complet'\n\\item 'complimentari'\n\\item 'comput'\n\\item 'concentr'\n\\item 'condit'\n\\item 'confid'\n\\item ⋯\n\\item 'stuff'\n\\item 'stupid'\n\\item 'style'\n\\item 'sub'\n\\item 'subscrib'\n\\item 'success'\n\\item 'summer'\n\\item 'sun'\n\\item 'sunday'\n\\item 'sunshin'\n\\item 'support'\n\\item 'suppos'\n\\item 'sure'\n\\item 'surpris'\n\\item 'sweet'\n\\item 'swing'\n\\item 'system'\n\\item 'take'\n\\item 'talk'\n\\item 'tampa'\n\\item 'tcs'\n\\item 'teach'\n\\item 'team'\n\\item 'tear'\n\\item 'teas'\n\\item 'tel'\n\\item 'tell'\n\\item 'ten'\n\\item 'tenerif'\n\\item 'term'\n\\item 'test'\n\\item 'text'\n\\item 'thank'\n\\item 'thanx'\n\\item 'that'\n\\item 'thing'\n\\item 'think'\n\\item 'thinkin'\n\\item 'thk'\n\\item 'thnk'\n\\item 'tho'\n\\item 'though'\n\\item 'thought'\n\\item 'throw'\n\\item 'thru'\n\\item 'tht'\n\\item 'thur'\n\\item 'ticket'\n\\item 'til'\n\\item 'till'\n\\item 'time'\n\\item 'tire'\n\\item 'titl'\n\\item 'tmr'\n\\item 'tncs'\n\\item 'today'\n\\item 'togeth'\n\\item 'told'\n\\item 'tomo'\n\\item 'tomorrow'\n\\item 'tone'\n\\item 'tonight'\n\\item 'tonit'\n\\item 'took'\n\\item 'top'\n\\item 'tot'\n\\item 'total'\n\\item 'touch'\n\\item 'tough'\n\\item 'tour'\n\\item 'toward'\n\\item 'town'\n\\item 'track'\n\\item 'train'\n\\item 'transact'\n\\item 'treat'\n\\item 'tri'\n\\item 'trip'\n\\item 'troubl'\n\\item 'true'\n\\item 'trust'\n\\item 'truth'\n\\item 'tscs'\n\\item 'ttyl'\n\\item 'tuesday'\n\\item 'turn'\n\\item 'twice'\n\\item 'two'\n\\item 'txt'\n\\item 'txting'\n\\item 'txts'\n\\item 'type'\n\\item 'ufind'\n\\item 'ugh'\n\\item 'umma'\n\\item 'uncl'\n\\item 'understand'\n\\item 'unless'\n\\item 'unlimit'\n\\item 'unredeem'\n\\item 'unsub'\n\\item 'unsubscrib'\n\\item 'updat'\n\\item 'ure'\n\\item 'urgent'\n\\item 'urself'\n\\item 'use'\n\\item 'usf'\n\\item 'usual'\n\\item 'uve'\n\\item 'valentin'\n\\item 'valid'\n\\item 'valu'\n\\item 'vari'\n\\item 'verifi'\n\\item 'via'\n\\item 'video'\n\\item 'visit'\n\\item 'voic'\n\\item 'voucher'\n\\item 'wait'\n\\item 'wake'\n\\item 'walk'\n\\item 'wan'\n\\item 'wana'\n\\item 'wanna'\n\\item 'want'\n\\item 'wap'\n\\item 'warm'\n\\item 'wast'\n\\item 'wat'\n\\item 'watch'\n\\item 'water'\n\\item 'way'\n\\item 'weak'\n\\item 'wear'\n\\item 'weather'\n\\item 'wed'\n\\item 'wednesday'\n\\item 'weed'\n\\item 'week'\n\\item 'weekend'\n\\item 'weight'\n\\item 'welcom'\n\\item 'well'\n\\item 'wen'\n\\item 'went'\n\\item 'wer'\n\\item 'wet'\n\\item 'what'\n\\item 'whatev'\n\\item 'whenev'\n\\item 'whole'\n\\item 'wid'\n\\item 'wif'\n\\item 'wife'\n\\item 'wil'\n\\item 'will'\n\\item 'win'\n\\item 'wine'\n\\item 'winner'\n\\item 'wish'\n\\item 'wit'\n\\item 'within'\n\\item 'without'\n\\item 'wiv'\n\\item 'wkli'\n\\item 'wnt'\n\\item 'woke'\n\\item 'won'\n\\item 'wonder'\n\\item 'wont'\n\\item 'word'\n\\item 'work'\n\\item 'workin'\n\\item 'world'\n\\item 'worri'\n\\item 'worth'\n\\item 'wot'\n\\item 'wow'\n\\item 'write'\n\\item 'wrong'\n\\item 'wun'\n\\item 'wwwgetzedcouk'\n\\item 'xmas'\n\\item 'xxx'\n\\item 'yahoo'\n\\item 'yar'\n\\item 'yeah'\n\\item 'year'\n\\item 'yep'\n\\item 'yes'\n\\item 'yest'\n\\item 'yesterday'\n\\item 'yet'\n\\item 'yoga'\n\\item 'yogasana'\n\\item 'yrs'\n\\item 'yun'\n\\item 'yup'\n\\end{enumerate*}\n",
            "text/plain": [
              "   [1] \"£wk\"           \"abiola\"        \"abl\"           \"abt\"          \n",
              "   [5] \"accept\"        \"access\"        \"account\"       \"across\"       \n",
              "   [9] \"activ\"         \"actual\"        \"add\"           \"address\"      \n",
              "  [13] \"admir\"         \"adult\"         \"advanc\"        \"aft\"          \n",
              "  [17] \"afternoon\"     \"aftr\"          \"age\"           \"ago\"          \n",
              "  [21] \"ahead\"         \"aight\"         \"aint\"          \"air\"          \n",
              "  [25] \"aiyah\"         \"alex\"          \"almost\"        \"alon\"         \n",
              "  [29] \"alreadi\"       \"alright\"       \"alrit\"         \"also\"         \n",
              "  [33] \"alway\"         \"amp\"           \"angri\"         \"announc\"      \n",
              "  [37] \"anoth\"         \"answer\"        \"anybodi\"       \"anymor\"       \n",
              "  [41] \"anyon\"         \"anyth\"         \"anytim\"        \"anyway\"       \n",
              "  [45] \"apart\"         \"app\"           \"appli\"         \"appoint\"      \n",
              "  [49] \"appreci\"       \"april\"         \"ard\"           \"area\"         \n",
              "  [53] \"argument\"      \"arm\"           \"around\"        \"arrang\"       \n",
              "  [57] \"arrest\"        \"arriv\"         \"asap\"          \"ask\"          \n",
              "  [61] \"askd\"          \"asleep\"        \"ass\"           \"attempt\"      \n",
              "  [65] \"auction\"       \"avail\"         \"ave\"           \"avoid\"        \n",
              "  [69] \"await\"         \"award\"         \"away\"          \"awesom\"       \n",
              "  [73] \"babe\"          \"babi\"          \"back\"          \"bad\"          \n",
              "  [77] \"bag\"           \"bak\"           \"balanc\"        \"bank\"         \n",
              "  [81] \"bare\"          \"bath\"          \"batteri\"       \"bcoz\"         \n",
              "  [85] \"bcum\"          \"bday\"          \"beauti\"        \"becom\"        \n",
              "  [89] \"bed\"           \"bedroom\"       \"begin\"         \"believ\"       \n",
              "  [93] \"belli\"         \"best\"          \"better\"        \"bid\"          \n",
              "  [97] \"big\"           \"bill\"          \"bird\"          \"birthday\"     \n",
              " [101] \"bit\"           \"black\"         \"blank\"         \"bless\"        \n",
              " [105] \"blue\"          \"bluetooth\"     \"bodi\"          \"bold\"         \n",
              " [109] \"bonus\"         \"boo\"           \"book\"          \"bore\"         \n",
              " [113] \"boss\"          \"bother\"        \"bout\"          \"bowl\"         \n",
              " [117] \"box\"           \"boy\"           \"boytoy\"        \"brand\"        \n",
              " [121] \"break\"         \"breath\"        \"brilliant\"     \"bring\"        \n",
              " [125] \"brother\"       \"bslvyl\"        \"btnationalr\"   \"budget\"       \n",
              " [129] \"bugi\"          \"bus\"           \"busi\"          \"buy\"          \n",
              " [133] \"buzz\"          \"cabin\"         \"cafe\"          \"cal\"          \n",
              " [137] \"call\"          \"caller\"        \"callertun\"     \"camcord\"      \n",
              " [141] \"came\"          \"camera\"        \"can\"           \"cancel\"       \n",
              " [145] \"cant\"          \"car\"           \"card\"          \"care\"         \n",
              " [149] \"carlo\"         \"case\"          \"cash\"          \"cashbal\"      \n",
              " [153] \"catch\"         \"caus\"          \"chanc\"         \"chang\"        \n",
              " [157] \"charact\"       \"charg\"         \"chariti\"       \"chat\"         \n",
              " [161] \"cheap\"         \"check\"         \"cheer\"         \"chennai\"      \n",
              " [165] \"chikku\"        \"childish\"      \"children\"      \"chines\"       \n",
              " [169] \"choic\"         \"choos\"         \"christma\"      \"cine\"         \n",
              " [173] \"cinema\"        \"claim\"         \"class\"         \"clean\"        \n",
              " [177] \"clear\"         \"click\"         \"clock\"         \"close\"        \n",
              " [181] \"club\"          \"code\"          \"coffe\"         \"coin\"         \n",
              " [185] \"cold\"          \"colleagu\"      \"collect\"       \"colleg\"       \n",
              " [189] \"colour\"        \"come\"          \"comin\"         \"comp\"         \n",
              " [193] \"compani\"       \"competit\"      \"complet\"       \"complimentari\"\n",
              " [197] \"comput\"        \"concentr\"      \"condit\"        \"confid\"       \n",
              " [201] \"confirm\"       \"congrat\"       \"congratul\"     \"connect\"      \n",
              " [205] \"contact\"       \"content\"       \"convey\"        \"cook\"         \n",
              " [209] \"cool\"          \"copi\"          \"correct\"       \"cos\"          \n",
              " [213] \"cost\"          \"countri\"       \"coupl\"         \"cours\"        \n",
              " [217] \"cover\"         \"coz\"           \"crave\"         \"crazi\"        \n",
              " [221] \"credit\"        \"cri\"           \"croydon\"       \"cuddl\"        \n",
              " [225] \"cum\"           \"cup\"           \"current\"       \"custcar\"      \n",
              " [229] \"custom\"        \"cut\"           \"cute\"          \"cuz\"          \n",
              " [233] \"dad\"           \"daddi\"         \"damn\"          \"darl\"         \n",
              " [237] \"darlin\"        \"darren\"        \"dat\"           \"date\"         \n",
              " [241] \"day\"           \"dead\"          \"deal\"          \"dear\"         \n",
              " [245] \"decid\"         \"deep\"          \"definit\"       \"del\"          \n",
              " [249] \"delet\"         \"deliv\"         \"deliveri\"      \"den\"          \n",
              " [253] \"depend\"        \"detail\"        \"dey\"           \"didnt\"        \n",
              " [257] \"die\"           \"differ\"        \"difficult\"     \"digit\"        \n",
              " [261] \"din\"           \"dinner\"        \"direct\"        \"dis\"          \n",
              " [265] \"discount\"      \"discuss\"       \"disturb\"       \"dnt\"          \n",
              " [269] \"doctor\"        \"doesnt\"        \"dog\"           \"doin\"         \n",
              " [273] \"dollar\"        \"don\"           \"don‘t\"         \"done\"         \n",
              " [277] \"dont\"          \"door\"          \"doubl\"         \"download\"     \n",
              " [281] \"draw\"          \"dream\"         \"drink\"         \"drive\"        \n",
              " [285] \"drop\"          \"drug\"          \"dude\"          \"dun\"          \n",
              " [289] \"dunno\"         \"dvd\"           \"earli\"         \"earlier\"      \n",
              " [293] \"easi\"          \"eat\"           \"eatin\"         \"either\"       \n",
              " [297] \"els\"           \"email\"         \"embarass\"      \"empti\"        \n",
              " [301] \"end\"           \"enemi\"         \"energi\"        \"england\"      \n",
              " [305] \"enjoy\"         \"enough\"        \"enter\"         \"entri\"        \n",
              " [309] \"envelop\"       \"especi\"        \"etc\"           \"euro\"         \n",
              " [313] \"eve\"           \"even\"          \"ever\"          \"everi\"        \n",
              " [317] \"everyon\"       \"everyth\"       \"exact\"         \"exam\"         \n",
              " [321] \"excel\"         \"excit\"         \"excus\"         \"expect\"       \n",
              " [325] \"experi\"        \"expir\"         \"extra\"         \"eye\"          \n",
              " [329] \"face\"          \"facebook\"      \"fact\"          \"fall\"         \n",
              " [333] \"famili\"        \"fanci\"         \"fantasi\"       \"fantast\"      \n",
              " [337] \"far\"           \"fast\"          \"fat\"           \"father\"       \n",
              " [341] \"fault\"         \"feel\"          \"felt\"          \"fetch\"        \n",
              " [345] \"fight\"         \"figur\"         \"file\"          \"fill\"         \n",
              " [349] \"film\"          \"final\"         \"find\"          \"fine\"         \n",
              " [353] \"finger\"        \"finish\"        \"first\"         \"five\"         \n",
              " [357] \"fix\"           \"flight\"        \"flirt\"         \"flower\"       \n",
              " [361] \"follow\"        \"fone\"          \"food\"          \"forev\"        \n",
              " [365] \"forget\"        \"forgot\"        \"forward\"       \"found\"        \n",
              " [369] \"free\"          \"freemsg\"       \"freephon\"      \"fren\"         \n",
              " [373] \"fri\"           \"friday\"        \"friend\"        \"friendship\"   \n",
              " [377] \"frm\"           \"frnd\"          \"frnds\"         \"fuck\"         \n",
              " [381] \"full\"          \"fullonsmscom\"  \"fun\"           \"funni\"        \n",
              " [385] \"futur\"         \"gal\"           \"game\"          \"gap\"          \n",
              " [389] \"gas\"           \"gave\"          \"gay\"           \"gentl\"        \n",
              " [393] \"get\"           \"gettin\"        \"gift\"          \"girl\"         \n",
              " [397] \"give\"          \"glad\"          \"god\"           \"goe\"          \n",
              " [401] \"goin\"          \"gone\"          \"gonna\"         \"good\"         \n",
              " [405] \"goodmorn\"      \"goodnight\"     \"got\"           \"goto\"         \n",
              " [409] \"gotta\"         \"great\"         \"green\"         \"greet\"        \n",
              " [413] \"grin\"          \"group\"         \"guarante\"      \"gud\"          \n",
              " [417] \"guess\"         \"guy\"           \"gym\"           \"haf\"          \n",
              " [421] \"haha\"          \"hai\"           \"hair\"          \"half\"         \n",
              " [425] \"hand\"          \"hang\"          \"happen\"        \"happi\"        \n",
              " [429] \"hard\"          \"hav\"           \"havent\"        \"head\"         \n",
              " [433] \"hear\"          \"heard\"         \"heart\"         \"heavi\"        \n",
              " [437] \"hee\"           \"hell\"          \"hello\"         \"help\"         \n",
              " [441] \"hey\"           \"hgsuiteland\"   \"high\"          \"hit\"          \n",
              " [445] \"hiya\"          \"hmm\"           \"hmmm\"          \"hmv\"          \n",
              " [449] \"hol\"           \"hold\"          \"holder\"        \"holiday\"      \n",
              " [453] \"home\"          \"honey\"         \"hook\"          \"hop\"          \n",
              " [457] \"hope\"          \"horni\"         \"hospit\"        \"hot\"          \n",
              " [461] \"hotel\"         \"hour\"          \"hous\"          \"housemaid\"    \n",
              " [465] \"how\"           \"howev\"         \"howz\"          \"hrs\"          \n",
              " [469] \"hug\"           \"huh\"           \"hungri\"        \"hurri\"        \n",
              " [473] \"hurt\"          \"iam\"           \"ice\"           \"idea\"         \n",
              " [477] \"identifi\"      \"ignor\"         \"ill\"           \"imagin\"       \n",
              " [481] \"imma\"          \"immedi\"        \"import\"        \"inc\"          \n",
              " [485] \"inch\"          \"includ\"        \"india\"         \"indian\"       \n",
              " [489] \"info\"          \"inform\"        \"instead\"       \"interest\"     \n",
              " [493] \"interview\"     \"invit\"         \"ipod\"          \"irrit\"        \n",
              " [497] \"ish\"           \"issu\"          \"ive\"           \"izzit\"        \n",
              " [501] \"januari\"       \"jay\"           \"job\"           \"john\"         \n",
              " [505] \"join\"          \"joke\"          \"joy\"           \"jus\"          \n",
              " [509] \"just\"          \"juz\"           \"kalli\"         \"kate\"         \n",
              " [513] \"keep\"          \"kept\"          \"key\"           \"kick\"         \n",
              " [517] \"kid\"           \"kill\"          \"kind\"          \"kinda\"        \n",
              " [521] \"king\"          \"kiss\"          \"knew\"          \"know\"         \n",
              " [525] \"knw\"           \"ladi\"          \"land\"          \"landlin\"      \n",
              " [529] \"laptop\"        \"lar\"           \"last\"          \"late\"         \n",
              " [533] \"later\"         \"latest\"        \"laugh\"         \"lazi\"         \n",
              " [537] \"ldn\"           \"lead\"          \"learn\"         \"least\"        \n",
              " [541] \"leav\"          \"lect\"          \"left\"          \"leh\"          \n",
              " [545] \"lei\"           \"lemm\"          \"less\"          \"lesson\"       \n",
              " [549] \"let\"           \"letter\"        \"liao\"          \"librari\"      \n",
              " [553] \"lick\"          \"lie\"           \"life\"          \"lift\"         \n",
              " [557] \"light\"         \"like\"          \"line\"          \"link\"         \n",
              " [561] \"list\"          \"listen\"        \"littl\"         \"live\"         \n",
              " [565] \"load\"          \"loan\"          \"local\"         \"locat\"        \n",
              " [569] \"log\"           \"login\"         \"lol\"           \"long\"         \n",
              " [573] \"longer\"        \"look\"          \"lor\"           \"lose\"         \n",
              " [577] \"lost\"          \"lot\"           \"lovabl\"        \"love\"         \n",
              " [581] \"lover\"         \"loverboy\"      \"loyalti\"       \"ltd\"          \n",
              " [585] \"ltdecimalgt\"   \"ltgt\"          \"lttimegt\"      \"luck\"         \n",
              " [589] \"lucki\"         \"lunch\"         \"luv\"           \"made\"         \n",
              " [593] \"mah\"           \"mail\"          \"make\"          \"man\"          \n",
              " [597] \"mani\"          \"march\"         \"mark\"          \"marri\"        \n",
              " [601] \"marriag\"       \"match\"         \"mate\"          \"matter\"       \n",
              " [605] \"maxim\"         \"may\"           \"mayb\"          \"mean\"         \n",
              " [609] \"meant\"         \"med\"           \"medic\"         \"meet\"         \n",
              " [613] \"meh\"           \"mell\"          \"member\"        \"men\"          \n",
              " [617] \"menu\"          \"merri\"         \"messag\"        \"met\"          \n",
              " [621] \"mid\"           \"midnight\"      \"might\"         \"min\"          \n",
              " [625] \"mind\"          \"mine\"          \"minut\"         \"miracl\"       \n",
              " [629] \"miss\"          \"mistak\"        \"moan\"          \"mob\"          \n",
              " [633] \"mobil\"         \"mobileupd\"     \"mode\"          \"mom\"          \n",
              " [637] \"moment\"        \"mon\"           \"monday\"        \"money\"        \n",
              " [641] \"month\"         \"mood\"          \"moon\"          \"morn\"         \n",
              " [645] \"motorola\"      \"move\"          \"movi\"          \"mrng\"         \n",
              " [649] \"mrt\"           \"msg\"           \"msgs\"          \"mths\"         \n",
              " [653] \"much\"          \"mum\"           \"murder\"        \"music\"        \n",
              " [657] \"must\"          \"muz\"           \"nah\"           \"nake\"         \n",
              " [661] \"name\"          \"nation\"        \"natur\"         \"naughti\"      \n",
              " [665] \"near\"          \"need\"          \"net\"           \"network\"      \n",
              " [669] \"neva\"          \"never\"         \"new\"           \"news\"         \n",
              " [673] \"next\"          \"nice\"          \"nigeria\"       \"night\"        \n",
              " [677] \"nite\"          \"nobodi\"        \"noe\"           \"nokia\"        \n",
              " [681] \"none\"          \"noon\"          \"nope\"          \"normal\"       \n",
              " [685] \"noth\"          \"notic\"         \"now\"           \"ntt\"          \n",
              " [689] \"num\"           \"number\"        \"nxt\"           \"nyt\"          \n",
              " [693] \"offer\"         \"offic\"         \"offici\"        \"okay\"         \n",
              " [697] \"oki\"           \"old\"           \"omw\"           \"one\"          \n",
              " [701] \"onlin\"         \"oop\"           \"open\"          \"oper\"         \n",
              " [705] \"opinion\"       \"opt\"           \"optout\"        \"orang\"        \n",
              " [709] \"orchard\"       \"order\"         \"oredi\"         \"oso\"          \n",
              " [713] \"other\"         \"otherwis\"      \"outsid\"        \"pack\"         \n",
              " [717] \"page\"          \"paid\"          \"pain\"          \"paper\"        \n",
              " [721] \"parent\"        \"park\"          \"part\"          \"parti\"        \n",
              " [725] \"partner\"       \"pass\"          \"passion\"       \"password\"     \n",
              " [729] \"past\"          \"pay\"           \"peac\"          \"peopl\"        \n",
              " [733] \"per\"           \"person\"        \"pete\"          \"phone\"        \n",
              " [737] \"photo\"         \"pic\"           \"pick\"          \"pictur\"       \n",
              " [741] \"piec\"          \"pix\"           \"pizza\"         \"place\"        \n",
              " [745] \"plan\"          \"plane\"         \"play\"          \"player\"       \n",
              " [749] \"pleas\"         \"pleasur\"       \"pls\"           \"plus\"         \n",
              " [753] \"plz\"           \"pmin\"          \"pmsg\"          \"pobox\"        \n",
              " [757] \"poboxwwq\"      \"point\"         \"poli\"          \"polic\"        \n",
              " [761] \"poor\"          \"pop\"           \"possibl\"       \"post\"         \n",
              " [765] \"pound\"         \"power\"         \"pple\"          \"ppm\"          \n",
              " [769] \"practic\"       \"pray\"          \"prefer\"        \"prepar\"       \n",
              " [773] \"press\"         \"pretti\"        \"price\"         \"princess\"     \n",
              " [777] \"privat\"        \"prize\"         \"prob\"          \"probabl\"      \n",
              " [781] \"problem\"       \"process\"       \"project\"       \"promis\"       \n",
              " [785] \"pub\"           \"put\"           \"qualiti\"       \"question\"     \n",
              " [789] \"quick\"         \"quit\"          \"quiz\"          \"quot\"         \n",
              " [793] \"rain\"          \"rate\"          \"rather\"        \"rcvd\"         \n",
              " [797] \"reach\"         \"read\"          \"readi\"         \"real\"         \n",
              " [801] \"realiz\"        \"realli\"        \"reason\"        \"receipt\"      \n",
              " [805] \"receiv\"        \"recent\"        \"record\"        \"refer\"        \n",
              " [809] \"regard\"        \"regist\"        \"remain\"        \"rememb\"       \n",
              " [813] \"remind\"        \"remov\"         \"rent\"          \"rental\"       \n",
              " [817] \"repli\"         \"repres\"        \"request\"       \"respond\"      \n",
              " [821] \"respons\"       \"rest\"          \"result\"        \"return\"       \n",
              " [825] \"reveal\"        \"review\"        \"right\"         \"ring\"         \n",
              " [829] \"rington\"       \"rite\"          \"road\"          \"rock\"         \n",
              " [833] \"room\"          \"roommat\"       \"rose\"          \"round\"        \n",
              " [837] \"rowwjhl\"       \"rpli\"          \"rreveal\"       \"run\"          \n",
              " [841] \"sad\"           \"sae\"           \"safe\"          \"said\"         \n",
              " [845] \"sale\"          \"sam\"           \"sat\"           \"saturday\"     \n",
              " [849] \"savamob\"       \"save\"          \"saw\"           \"say\"          \n",
              " [853] \"sch\"           \"school\"        \"score\"         \"scream\"       \n",
              " [857] \"sea\"           \"search\"        \"season\"        \"sec\"          \n",
              " [861] \"second\"        \"secret\"        \"see\"           \"seem\"         \n",
              " [865] \"seen\"          \"select\"        \"self\"          \"sell\"         \n",
              " [869] \"semest\"        \"send\"          \"sens\"          \"sent\"         \n",
              " [873] \"serious\"       \"servic\"        \"set\"           \"settl\"        \n",
              " [877] \"sex\"           \"sexi\"          \"shall\"         \"share\"        \n",
              " [881] \"shd\"           \"ship\"          \"shirt\"         \"shit\"         \n",
              " [885] \"shop\"          \"short\"         \"show\"          \"shower\"       \n",
              " [889] \"shuhui\"        \"sick\"          \"side\"          \"sigh\"         \n",
              " [893] \"sight\"         \"sign\"          \"silent\"        \"simpl\"        \n",
              " [897] \"sinc\"          \"sing\"          \"singl\"         \"sir\"          \n",
              " [901] \"sis\"           \"sister\"        \"sit\"           \"situat\"       \n",
              " [905] \"sky\"           \"slave\"         \"sleep\"         \"slept\"        \n",
              " [909] \"slow\"          \"slowli\"        \"small\"         \"smile\"        \n",
              " [913] \"smoke\"         \"sms\"           \"smth\"          \"snow\"         \n",
              " [917] \"sofa\"          \"solv\"          \"somebodi\"      \"someon\"       \n",
              " [921] \"someth\"        \"sometim\"       \"somewher\"      \"song\"         \n",
              " [925] \"soni\"          \"sonyericsson\"  \"soon\"          \"sorri\"        \n",
              " [929] \"sort\"          \"sound\"         \"space\"         \"speak\"        \n",
              " [933] \"special\"       \"specialcal\"    \"spend\"         \"spent\"        \n",
              " [937] \"spoke\"         \"sport\"         \"spree\"         \"stand\"        \n",
              " [941] \"star\"          \"start\"         \"statement\"     \"station\"      \n",
              " [945] \"stay\"          \"std\"           \"still\"         \"stock\"        \n",
              " [949] \"stop\"          \"store\"         \"stori\"         \"str\"          \n",
              " [953] \"straight\"      \"street\"        \"strong\"        \"student\"      \n",
              " [957] \"studi\"         \"stuff\"         \"stupid\"        \"style\"        \n",
              " [961] \"sub\"           \"subscrib\"      \"success\"       \"summer\"       \n",
              " [965] \"sun\"           \"sunday\"        \"sunshin\"       \"support\"      \n",
              " [969] \"suppos\"        \"sure\"          \"surpris\"       \"sweet\"        \n",
              " [973] \"swing\"         \"system\"        \"take\"          \"talk\"         \n",
              " [977] \"tampa\"         \"tcs\"           \"teach\"         \"team\"         \n",
              " [981] \"tear\"          \"teas\"          \"tel\"           \"tell\"         \n",
              " [985] \"ten\"           \"tenerif\"       \"term\"          \"test\"         \n",
              " [989] \"text\"          \"thank\"         \"thanx\"         \"that\"         \n",
              " [993] \"thing\"         \"think\"         \"thinkin\"       \"thk\"          \n",
              " [997] \"thnk\"          \"tho\"           \"though\"        \"thought\"      \n",
              "[1001] \"throw\"         \"thru\"          \"tht\"           \"thur\"         \n",
              "[1005] \"ticket\"        \"til\"           \"till\"          \"time\"         \n",
              "[1009] \"tire\"          \"titl\"          \"tmr\"           \"tncs\"         \n",
              "[1013] \"today\"         \"togeth\"        \"told\"          \"tomo\"         \n",
              "[1017] \"tomorrow\"      \"tone\"          \"tonight\"       \"tonit\"        \n",
              "[1021] \"took\"          \"top\"           \"tot\"           \"total\"        \n",
              "[1025] \"touch\"         \"tough\"         \"tour\"          \"toward\"       \n",
              "[1029] \"town\"          \"track\"         \"train\"         \"transact\"     \n",
              "[1033] \"treat\"         \"tri\"           \"trip\"          \"troubl\"       \n",
              "[1037] \"true\"          \"trust\"         \"truth\"         \"tscs\"         \n",
              "[1041] \"ttyl\"          \"tuesday\"       \"turn\"          \"twice\"        \n",
              "[1045] \"two\"           \"txt\"           \"txting\"        \"txts\"         \n",
              "[1049] \"type\"          \"ufind\"         \"ugh\"           \"umma\"         \n",
              "[1053] \"uncl\"          \"understand\"    \"unless\"        \"unlimit\"      \n",
              "[1057] \"unredeem\"      \"unsub\"         \"unsubscrib\"    \"updat\"        \n",
              "[1061] \"ure\"           \"urgent\"        \"urself\"        \"use\"          \n",
              "[1065] \"usf\"           \"usual\"         \"uve\"           \"valentin\"     \n",
              "[1069] \"valid\"         \"valu\"          \"vari\"          \"verifi\"       \n",
              "[1073] \"via\"           \"video\"         \"visit\"         \"voic\"         \n",
              "[1077] \"voucher\"       \"wait\"          \"wake\"          \"walk\"         \n",
              "[1081] \"wan\"           \"wana\"          \"wanna\"         \"want\"         \n",
              "[1085] \"wap\"           \"warm\"          \"wast\"          \"wat\"          \n",
              "[1089] \"watch\"         \"water\"         \"way\"           \"weak\"         \n",
              "[1093] \"wear\"          \"weather\"       \"wed\"           \"wednesday\"    \n",
              "[1097] \"weed\"          \"week\"          \"weekend\"       \"weight\"       \n",
              "[1101] \"welcom\"        \"well\"          \"wen\"           \"went\"         \n",
              "[1105] \"wer\"           \"wet\"           \"what\"          \"whatev\"       \n",
              "[1109] \"whenev\"        \"whole\"         \"wid\"           \"wif\"          \n",
              "[1113] \"wife\"          \"wil\"           \"will\"          \"win\"          \n",
              "[1117] \"wine\"          \"winner\"        \"wish\"          \"wit\"          \n",
              "[1121] \"within\"        \"without\"       \"wiv\"           \"wkli\"         \n",
              "[1125] \"wnt\"           \"woke\"          \"won\"           \"wonder\"       \n",
              "[1129] \"wont\"          \"word\"          \"work\"          \"workin\"       \n",
              "[1133] \"world\"         \"worri\"         \"worth\"         \"wot\"          \n",
              "[1137] \"wow\"           \"write\"         \"wrong\"         \"wun\"          \n",
              "[1141] \"wwwgetzedcouk\" \"xmas\"          \"xxx\"           \"yahoo\"        \n",
              "[1145] \"yar\"           \"yeah\"          \"year\"          \"yep\"          \n",
              "[1149] \"yes\"           \"yest\"          \"yesterday\"     \"yet\"          \n",
              "[1153] \"yoga\"          \"yogasana\"      \"yrs\"           \"yun\"          \n",
              "[1157] \"yup\"          "
            ]
          },
          "metadata": {}
        }
      ]
    },
    {
      "cell_type": "code",
      "source": [
        "sms_freq_words <- findFreqTerms(sms_dtm_train, 5)"
      ],
      "metadata": {
        "id": "Gfn79lOOcLRw"
      },
      "execution_count": 40,
      "outputs": []
    },
    {
      "cell_type": "code",
      "source": [
        "str(sms_freq_words)"
      ],
      "metadata": {
        "colab": {
          "base_uri": "https://localhost:8080/"
        },
        "id": "y0vju6XgcLVk",
        "outputId": "d8c435d1-8c78-4230-f73e-5db58919a9c9"
      },
      "execution_count": 41,
      "outputs": [
        {
          "output_type": "stream",
          "name": "stdout",
          "text": [
            " chr [1:1157] \"£wk\" \"abiola\" \"abl\" \"abt\" \"accept\" \"access\" \"account\" ...\n"
          ]
        }
      ]
    },
    {
      "cell_type": "code",
      "source": [
        "sms_dtm_freq_train<- sms_dtm_train[ , sms_freq_words]\n",
        "sms_dtm_freq_test <- sms_dtm_test[ , sms_freq_words]"
      ],
      "metadata": {
        "id": "wijGylrwcLdG"
      },
      "execution_count": 42,
      "outputs": []
    },
    {
      "cell_type": "code",
      "source": [
        "# Наборы обучающих и тестовых данных теперь включают 1136 признаков, которые соответствуют\n",
        "# словам, встречающимся как минимум в пяти сообщениях.\n",
        "# Наивный байесовский классификатор обычно обучается на данных с категориальными признаками.\n",
        "# Это создает проблему, поскольку ячейки в разреженной матрице являются числовыми и измеряют\n",
        "# количество раз, когда слово появляется в сообщении. Нам нужно изменить это на\n",
        "# категориальную переменную, которая просто указывает «да» или «нет» в зависимости от того, появляется ли слово вообще.\n",
        "# Ниже определяется функция convert_counts() для преобразования счетчиков в\n",
        "# строки «Да/Нет»:\n",
        "convert_counts <- function(x) {\n",
        "x <- ifelse(x > 0, \"Да\", \"Нет\")\n",
        "}"
      ],
      "metadata": {
        "id": "ZWV8MmnTcLgd"
      },
      "execution_count": 44,
      "outputs": []
    },
    {
      "cell_type": "code",
      "source": [
        "# Теперь нам нужно применить convert_counts() к каждому из столбцов в нашей разреженной матрице. Вы можете угадать функцию R, которая делает именно это. Функция\n",
        "# просто называется apply() и используется так же, как lapply(), использовавшаяся ранее.\n",
        "# Функция apply() позволяет использовать функцию для каждой из строк или столбцов\n",
        "# в матрице. Она использует параметр MARGIN для указания строк или столбцов. Здесь\n",
        "# мы будем использовать MARGIN = 2, так как нас интересуют столбцы (MARGIN = 1 используется\n",
        "# для строк). Команды для преобразования обучающей и тестовой матриц следующие:\n",
        "sms_train <- apply(sms_dtm_freq_train, MARGIN = 2,convert_counts)\n",
        "\n",
        "sms_test <- apply(sms_dtm_freq_test, MARGIN = 2,convert_counts)\n"
      ],
      "metadata": {
        "id": "zuKrJsgwcLj6"
      },
      "execution_count": 45,
      "outputs": []
    },
    {
      "cell_type": "code",
      "source": [
        "# install.packages(\"e1071\")\n",
        "library(e1071)"
      ],
      "metadata": {
        "id": "CB1Hr0Vid_3R"
      },
      "execution_count": 47,
      "outputs": []
    },
    {
      "cell_type": "code",
      "source": [
        "sms_classifier <- naiveBayes(sms_train, sms_train_labels)"
      ],
      "metadata": {
        "id": "cfd9PwlXd_6Z"
      },
      "execution_count": 48,
      "outputs": []
    },
    {
      "cell_type": "code",
      "source": [
        "sms_test_pred <- predict(sms_classifier, sms_test)"
      ],
      "metadata": {
        "id": "qYKzdsAed_9W"
      },
      "execution_count": 49,
      "outputs": []
    },
    {
      "cell_type": "code",
      "source": [
        "install.packages(\"gmodels\")"
      ],
      "metadata": {
        "colab": {
          "base_uri": "https://localhost:8080/"
        },
        "id": "pvp0BgbkfEj7",
        "outputId": "1020b7ea-3e41-496d-f218-c5474457dc28"
      },
      "execution_count": 51,
      "outputs": [
        {
          "output_type": "stream",
          "name": "stderr",
          "text": [
            "Installing package into ‘/usr/local/lib/R/site-library’\n",
            "(as ‘lib’ is unspecified)\n",
            "\n",
            "also installing the dependencies ‘gtools’, ‘gdata’\n",
            "\n",
            "\n"
          ]
        }
      ]
    },
    {
      "cell_type": "code",
      "source": [
        "library(gmodels)\n",
        "CrossTable(sms_test_pred, sms_test_labels,\n",
        "prop.chisq = FALSE, prop.t = FALSE,\n",
        "dnn = c('predicted', 'actual'))"
      ],
      "metadata": {
        "colab": {
          "base_uri": "https://localhost:8080/"
        },
        "id": "zrjU7zTQeAA5",
        "outputId": "e9afa9d9-0179-40ed-aec9-7281a1d59e11"
      },
      "execution_count": 52,
      "outputs": [
        {
          "output_type": "stream",
          "name": "stdout",
          "text": [
            "\n",
            " \n",
            "   Cell Contents\n",
            "|-------------------------|\n",
            "|                       N |\n",
            "|           N / Row Total |\n",
            "|           N / Col Total |\n",
            "|-------------------------|\n",
            "\n",
            " \n",
            "Total Observations in Table:  1390 \n",
            "\n",
            " \n",
            "             | actual \n",
            "   predicted |       ham |      spam | Row Total | \n",
            "-------------|-----------|-----------|-----------|\n",
            "         ham |      1200 |        20 |      1220 | \n",
            "             |     0.984 |     0.016 |     0.878 | \n",
            "             |     0.993 |     0.110 |           | \n",
            "-------------|-----------|-----------|-----------|\n",
            "        spam |         9 |       161 |       170 | \n",
            "             |     0.053 |     0.947 |     0.122 | \n",
            "             |     0.007 |     0.890 |           | \n",
            "-------------|-----------|-----------|-----------|\n",
            "Column Total |      1209 |       181 |      1390 | \n",
            "             |     0.870 |     0.130 |           | \n",
            "-------------|-----------|-----------|-----------|\n",
            "\n",
            " \n"
          ]
        }
      ]
    },
    {
      "cell_type": "code",
      "source": [
        "sms_classifier2 <- naiveBayes(sms_train, sms_train_labels,\n",
        "laplace = 1)"
      ],
      "metadata": {
        "id": "KX4GPtVfcLm8"
      },
      "execution_count": 53,
      "outputs": []
    },
    {
      "cell_type": "code",
      "source": [
        "sms_test_pred2 <- predict(sms_classifier2, sms_test)"
      ],
      "metadata": {
        "id": "BSPC6QdKfVb3"
      },
      "execution_count": 54,
      "outputs": []
    },
    {
      "cell_type": "code",
      "source": [
        "CrossTable(sms_test_pred2, sms_test_labels,\n",
        "prop.chisq = FALSE, prop.t = FALSE, prop.r = FALSE,\n",
        "dnn = c('predicted', 'actual'))"
      ],
      "metadata": {
        "id": "5qTucAY3fVfi"
      },
      "execution_count": null,
      "outputs": []
    },
    {
      "cell_type": "code",
      "source": [
        "CrossTable(sms_test_pred2, sms_test_labels,\n",
        "prop.chisq = FALSE, prop.t = FALSE, prop.r = FALSE,\n",
        "dnn = c('predicted', 'actual'))"
      ],
      "metadata": {
        "colab": {
          "base_uri": "https://localhost:8080/"
        },
        "id": "dLN9-r7RfVi_",
        "outputId": "ef54b1e7-2e69-4280-c16d-dbe1bafd46a9"
      },
      "execution_count": 55,
      "outputs": [
        {
          "output_type": "stream",
          "name": "stdout",
          "text": [
            "\n",
            " \n",
            "   Cell Contents\n",
            "|-------------------------|\n",
            "|                       N |\n",
            "|           N / Col Total |\n",
            "|-------------------------|\n",
            "\n",
            " \n",
            "Total Observations in Table:  1390 \n",
            "\n",
            " \n",
            "             | actual \n",
            "   predicted |       ham |      spam | Row Total | \n",
            "-------------|-----------|-----------|-----------|\n",
            "         ham |      1182 |        10 |      1192 | \n",
            "             |     0.978 |     0.055 |           | \n",
            "-------------|-----------|-----------|-----------|\n",
            "        spam |        27 |       171 |       198 | \n",
            "             |     0.022 |     0.945 |           | \n",
            "-------------|-----------|-----------|-----------|\n",
            "Column Total |      1209 |       181 |      1390 | \n",
            "             |     0.870 |     0.130 |           | \n",
            "-------------|-----------|-----------|-----------|\n",
            "\n",
            " \n"
          ]
        }
      ]
    },
    {
      "cell_type": "markdown",
      "source": [
        "Добавление оценщика Лапласа сократило количество ложных срабатываний (нежелательных сообщений, ошибочно классифицированных как спам) с шести до пяти, а количество ложных срабатываний\n",
        "с ​​30 до 28. Хотя это кажется небольшим изменением, оно существенно, учитывая,\n",
        "что точность модели уже была весьма впечатляющей."
      ],
      "metadata": {
        "id": "8QD-4DYUf-V7"
      }
    },
    {
      "cell_type": "code",
      "source": [
        "install.packages(\"ROCR\")"
      ],
      "metadata": {
        "colab": {
          "base_uri": "https://localhost:8080/"
        },
        "id": "vk94dA8UfVmw",
        "outputId": "b386cfea-2d80-4abd-cd94-394fe8d70543"
      },
      "execution_count": 56,
      "outputs": [
        {
          "output_type": "stream",
          "name": "stderr",
          "text": [
            "Installing package into ‘/usr/local/lib/R/site-library’\n",
            "(as ‘lib’ is unspecified)\n",
            "\n",
            "also installing the dependencies ‘bitops’, ‘caTools’, ‘gplots’\n",
            "\n",
            "\n"
          ]
        }
      ]
    },
    {
      "cell_type": "markdown",
      "source": [
        "Модель\n",
        "Задача обучения\n",
        "Название метода\n",
        "Параметры\n",
        "k-ближайшие соседи\n",
        "Классификация\n",
        "knn\n",
        "k\n",
        "Наивный байесовский\n",
        "Классификация\n",
        "nb\n",
        "fL, usekernel\n",
        "Деревья решений\n",
        "Классификация\n",
        "C5.0\n",
        "модель, испытания, просеивание\n",
        "OneR Rule Learner\n",
        "Классификация\n",
        "OneR\n",
        "Нет\n",
        "RIPPER Rule Learner\n",
        "Классификация\n",
        "JRip\n",
        "NumOpt\n",
        "Линейная регрессия\n",
        "Регрессия\n",
        "lm\n",
        "Нет\n",
        "Деревья регрессии\n",
        "Регрессия\n",
        "rpart\n",
        "cp\n",
        "Деревья моделей\n",
        "Регрессия\n",
        "M5\n",
        "обрезанный, сглаженный,\n",
        "правила\n",
        "Нейронные сети\n",
        "Двойное использование\n",
        "nnet\n",
        "размер, распад\n",
        "Машины опорных векторов\n",
        "(Линейное ядро)\n",
        "Двойное использование\n",
        "svmLinear\n",
        "C\n",
        "Машины опорных векторов\n",
        "(Радиальное базисное ядро)\n",
        "Двойное использование\n",
        "svmRadial\n",
        "C, sigma\n",
        "Случайные леса\n",
        "Двойное использование\n",
        "rf\n",
        "mtry\n"
      ],
      "metadata": {
        "id": "XW1AYAm_hdqo"
      }
    },
    {
      "cell_type": "code",
      "source": [
        "library(ROCR)\n",
        "pred <- prediction(predictions = sms_results$prob_spam,\n",
        "labels = sms_results$actual_type)"
      ],
      "metadata": {
        "colab": {
          "base_uri": "https://localhost:8080/",
          "height": 263
        },
        "id": "l5Gpb7mhfVq0",
        "outputId": "5487bd74-fa1d-46dc-cd6b-5c1acee669f1"
      },
      "execution_count": 57,
      "outputs": [
        {
          "output_type": "error",
          "ename": "ERROR",
          "evalue": "Error: object 'sms_results' not found\n",
          "traceback": [
            "Error: object 'sms_results' not found\nTraceback:\n",
            "1. is.data.frame(predictions)",
            "2. .handleSimpleError(function (cnd) \n . {\n .     watcher$capture_plot_and_output()\n .     cnd <- sanitize_call(cnd)\n .     watcher$push(cnd)\n .     switch(on_error, continue = invokeRestart(\"eval_continue\"), \n .         stop = invokeRestart(\"eval_stop\"), error = invokeRestart(\"eval_error\", \n .             cnd))\n . }, \"object 'sms_results' not found\", base::quote(eval(expr, envir)))"
          ]
        }
      ]
    },
    {
      "cell_type": "code",
      "source": [
        "install.packages(\"randomForest\")"
      ],
      "metadata": {
        "colab": {
          "base_uri": "https://localhost:8080/"
        },
        "id": "LrrHSiI9h0Ba",
        "outputId": "73b9ddbe-4f96-4b7c-ee93-32817a0e345a"
      },
      "execution_count": 59,
      "outputs": [
        {
          "output_type": "stream",
          "name": "stderr",
          "text": [
            "Installing package into ‘/usr/local/lib/R/site-library’\n",
            "(as ‘lib’ is unspecified)\n",
            "\n"
          ]
        }
      ]
    },
    {
      "cell_type": "code",
      "source": [
        "# sms_raw <- read.csv(\"/content/sample_data/sms_spam.csv\", stringsAsFactors = FALSE)\n",
        "credit <- read.csv(\"/content/sample_data/credit.csv\", stringsAsFactors = FALSE)"
      ],
      "metadata": {
        "id": "Dg47ZCK_iO7Z"
      },
      "execution_count": 61,
      "outputs": []
    },
    {
      "cell_type": "code",
      "source": [
        "library(randomForest)\n",
        "set.seed(300)\n",
        "rf <- randomForest(default ~ ., data = credit)"
      ],
      "metadata": {
        "colab": {
          "base_uri": "https://localhost:8080/"
        },
        "id": "xGUm-_uvh0fS",
        "outputId": "6ce0b3a8-7859-4f70-e7a0-38952257be8a"
      },
      "execution_count": 62,
      "outputs": [
        {
          "output_type": "stream",
          "name": "stderr",
          "text": [
            "Warning message in randomForest.default(m, y, ...):\n",
            "“The response has five or fewer unique values.  Are you sure you want to do regression?”\n"
          ]
        }
      ]
    },
    {
      "cell_type": "code",
      "source": [
        "rf"
      ],
      "metadata": {
        "colab": {
          "base_uri": "https://localhost:8080/",
          "height": 173
        },
        "id": "qbU-2fOOh0if",
        "outputId": "f6240d67-db7e-47da-bdfc-25094a8f611f"
      },
      "execution_count": 63,
      "outputs": [
        {
          "output_type": "display_data",
          "data": {
            "text/plain": [
              "\n",
              "Call:\n",
              " randomForest(formula = default ~ ., data = credit) \n",
              "               Type of random forest: regression\n",
              "                     Number of trees: 500\n",
              "No. of variables tried at each split: 6\n",
              "\n",
              "          Mean of squared residuals: 0.1626498\n",
              "                    % Var explained: 22.55"
            ]
          },
          "metadata": {}
        }
      ]
    },
    {
      "cell_type": "markdown",
      "source": [
        "В выходных данных указано, что случайный лес включал 500 деревьев и пробовал четыре переменные при каждом разбиении, как мы и ожидали. На первый взгляд, вы можете быть встревожены кажущейся\n",
        "плохой производительностью согласно матрице путаницы — уровень ошибок 23,8 процента\n",
        "намного хуже, чем ошибка повторной замены любого из других ансамблевых методов до сих пор. Однако эта матрица путаницы не показывает ошибку повторной замены. Вместо этого она\n",
        "отражает уровень ошибок вне мешка (указанный в выходных данных как оценка OOB уровня ошибок), который, в отличие от ошибки повторной замены, является несмещенной оценкой ошибки тестового набора.\n",
        "Это означает, что это должна быть довольно разумная оценка будущей производительности.\n",
        "Оценка вне мешка вычисляется во время построения случайного леса.\n",
        "По сути, любой пример, не выбранный для выборки бутстрапа одного дерева,\n",
        "можно использовать для проверки производительности модели на невидимых данных. В конце построения леса\n",
        "прогнозы для каждого примера каждый раз, когда он был выдвинут, подсчитываются, и проводится голосование, чтобы определить окончательный прогноз для примера. Общая частота ошибок таких\n",
        "предсказаний становится частотой ошибок вне мешка."
      ],
      "metadata": {
        "id": "B9Rg6TdPiopv"
      }
    },
    {
      "cell_type": "code",
      "source": [
        "install.packages(\"caret\")"
      ],
      "metadata": {
        "colab": {
          "base_uri": "https://localhost:8080/"
        },
        "id": "vMA3u1LMi4_K",
        "outputId": "95079ca4-a45d-4c11-828f-186efc12dc77"
      },
      "execution_count": 64,
      "outputs": [
        {
          "output_type": "stream",
          "name": "stderr",
          "text": [
            "Installing package into ‘/usr/local/lib/R/site-library’\n",
            "(as ‘lib’ is unspecified)\n",
            "\n",
            "also installing the dependencies ‘listenv’, ‘parallelly’, ‘future’, ‘globals’, ‘shape’, ‘future.apply’, ‘numDeriv’, ‘progressr’, ‘SQUAREM’, ‘diagram’, ‘lava’, ‘prodlim’, ‘iterators’, ‘clock’, ‘gower’, ‘hardhat’, ‘ipred’, ‘timeDate’, ‘foreach’, ‘ModelMetrics’, ‘plyr’, ‘pROC’, ‘recipes’, ‘reshape2’\n",
            "\n",
            "\n"
          ]
        }
      ]
    },
    {
      "cell_type": "markdown",
      "source": [
        "Как упоминалось ранее, функция randomForest() поддерживается функцией caret,\n",
        "что позволяет нам оптимизировать модель, одновременно вычисляя\n",
        "показатели производительности за пределами частоты ошибок out-of-bag. Чтобы было интереснее,\n",
        "давайте сравним автоматически настроенный случайный лес с лучшей автоматически настроенной усиленной моделью C5.0,\n",
        "которую мы разработали. Мы будем рассматривать этот эксперимент так, как будто мы надеемся определить\n",
        "модель-кандидата для отправки на конкурс машинного обучения.\n",
        "Сначала мы должны загрузить функцию caret и задать параметры управления обучением. Для наиболее точного\n",
        "сравнения производительности модели мы будем использовать повторную 10-кратную перекрестную проверку или\n",
        "10-кратный CV, повторенный 10 раз. Это означает, что модели потребуют гораздо больше времени для построения и будут более интенсивными для оценки, но поскольку это наше последнее сравнение, мы должны быть уверены, что делаем правильный\n",
        "выбор; победитель этого поединка будет нашим единственным участником в конкурсе машинного обучения."
      ],
      "metadata": {
        "id": "G3VeQ04xjfak"
      }
    },
    {
      "cell_type": "code",
      "source": [
        "library(caret)\n",
        "ctrl <- trainControl(method = \"repeatedcv\",\n",
        "number = 10, repeats = 10)"
      ],
      "metadata": {
        "colab": {
          "base_uri": "https://localhost:8080/"
        },
        "id": "sq-FD3pCh0l2",
        "outputId": "1ab77a32-5017-4afc-d72c-0a66962e95b2"
      },
      "execution_count": 65,
      "outputs": [
        {
          "output_type": "stream",
          "name": "stderr",
          "text": [
            "Loading required package: ggplot2\n",
            "\n",
            "\n",
            "Attaching package: ‘ggplot2’\n",
            "\n",
            "\n",
            "The following object is masked from ‘package:randomForest’:\n",
            "\n",
            "    margin\n",
            "\n",
            "\n",
            "The following object is masked from ‘package:NLP’:\n",
            "\n",
            "    annotate\n",
            "\n",
            "\n",
            "Loading required package: lattice\n",
            "\n"
          ]
        }
      ]
    },
    {
      "cell_type": "code",
      "source": [
        "grid_rf <- expand.grid(.mtry = c(2, 4, 8, 16))"
      ],
      "metadata": {
        "id": "NYEYdjDMh0pT"
      },
      "execution_count": 66,
      "outputs": []
    },
    {
      "cell_type": "code",
      "source": [
        "# library(caret)\n",
        "# ctrl <- trainControl(method = \"repeatedcv\",\n",
        "# number = 10, repeats = 10)\n",
        "# # Next, we'll set up the tuning grid for the random forest. The only tuning parameter\n",
        "# # for this model is mtry, which defines how many features are randomly selected at\n",
        "# # each split. By default, we know that the random forest will use sqrt(16), or four\n",
        "# # features per tree. To be thorough, we'll also test values half of that, twice that, as well\n",
        "# # as the full set of 16 features. Thus, we need to create a grid with values of 2, 4, 8, and\n",
        "# # 16 as follows:\n",
        "# grid_rf <- expand.grid(.mtry = c(2, 4, 8, 16))\n",
        "# # A random forest that considers the full set of features at each split is\n",
        "# # essentially the same as a bagged decision tree model.\n",
        "# # We can supply the resulting grid to the train() function with the ctrl object as\n",
        "# # follows. We'll use the kappa metric to select the best model:\n",
        "# set.seed(300)\n",
        "# m_rf <- train(default ~ ., data = credit, method = \"rf\",\n",
        "# metric = \"Kappa\", trControl = ctrl,\n",
        "# tuneGrid = grid_rf)"
      ],
      "metadata": {
        "id": "LNYTklSKpZrA"
      },
      "execution_count": 73,
      "outputs": []
    },
    {
      "cell_type": "markdown",
      "source": [
        "Выполнение предыдущей команды может занять некоторое время, поскольку ей предстоит проделать довольно много работы! Когда она завершится, мы сравним ее с расширенным деревом, использующим 10, 20, 30 и 40 итераций:"
      ],
      "metadata": {
        "id": "xPwkAaOPjt3C"
      }
    },
    {
      "cell_type": "code",
      "source": [
        "# m_rf <- train(default ~ ., data = credit, method = \"rf\",\n",
        "# metric = \"Kappa\", trControl = ctrl,\n",
        "# tuneGrid = grid_rf)"
      ],
      "metadata": {
        "id": "jKcSGizRh0sf"
      },
      "execution_count": 72,
      "outputs": []
    },
    {
      "cell_type": "code",
      "source": [
        "# grid_c50 <- expand.grid(.model = \"tree\",\n",
        "# .trials = c(10, 20, 30, 40),\n",
        "# .winnow = \"FALSE\")\n",
        "# set.seed(300)\n",
        "# m_c50 <- train(default ~ ., data = credit, method = \"C5.0\",\n",
        "# metric = \"Kappa\", trControl = ctrl,\n",
        "# tuneGrid = grid_c50)\n",
        "# # When the C5.0 decision tree finally completes, we can compare the two approaches\n",
        "# # side-by-side. For the random forest model, the results are:\n",
        "# m_rf"
      ],
      "metadata": {
        "id": "eJ7TgKcwjFFi"
      },
      "execution_count": 71,
      "outputs": []
    },
    {
      "cell_type": "code",
      "source": [],
      "metadata": {
        "id": "m2MRYiY6jFI7"
      },
      "execution_count": null,
      "outputs": []
    },
    {
      "cell_type": "code",
      "source": [],
      "metadata": {
        "id": "vsIvm3LljFMN"
      },
      "execution_count": null,
      "outputs": []
    },
    {
      "cell_type": "code",
      "source": [],
      "metadata": {
        "id": "S42r4bj1jFPy"
      },
      "execution_count": null,
      "outputs": []
    }
  ]
}